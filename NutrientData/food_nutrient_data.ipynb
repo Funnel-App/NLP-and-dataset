{
 "cells": [
  {
   "cell_type": "code",
   "execution_count": 1,
   "metadata": {},
   "outputs": [],
   "source": [
    "import pandas as pd\n",
    "import numpy as np\n",
    "import seaborn as sns\n",
    "import matplotlib.pyplot as plt"
   ]
  },
  {
   "cell_type": "code",
   "execution_count": 2,
   "metadata": {},
   "outputs": [
    {
     "name": "stderr",
     "output_type": "stream",
     "text": [
      "/Users/daniel/anaconda3/lib/python3.7/site-packages/IPython/core/interactiveshell.py:3020: DtypeWarning: Columns (9) have mixed types. Specify dtype option on import or set low_memory=False.\n",
      "  interactivity=interactivity, compiler=compiler, result=result)\n"
     ]
    }
   ],
   "source": [
    "# Reads food form\n",
    "food = pd.read_csv(\"food.csv\")\n",
    "\n",
    "# Reads food_nutrient id pairing form\n",
    "food_nutri = pd.read_csv(\"food_nutrient.csv\")\n",
    "food_nutri = food_nutri.drop(columns = ['min', 'max', 'median', 'footnote', 'min_year_acquired'])\n",
    "\n",
    "# Reads food nutrients conversion\n",
    "food_nutri_conv = pd.read_csv(\"food_nutrient_conversion_factor.csv\")\n",
    "\n",
    "# A USELESS FORM\n",
    "food_nutri_src = pd.read_csv(\"food_nutrient_source.csv\") \n",
    "\n",
    "# Nutrient form\n",
    "nutri = pd.read_csv(\"Food Data/nutrient.csv\")\n"
   ]
  },
  {
   "cell_type": "code",
   "execution_count": 61,
   "metadata": {},
   "outputs": [],
   "source": [
    "# Categories \n",
    "categ = pd.read_csv(\"food_category.csv\")"
   ]
  },
  {
   "cell_type": "code",
   "execution_count": 3,
   "metadata": {},
   "outputs": [
    {
     "data": {
      "text/plain": [
       "(4800957, 6)"
      ]
     },
     "metadata": {},
     "output_type": "display_data"
    },
    {
     "data": {
      "text/plain": [
       "(292060, 5)"
      ]
     },
     "metadata": {},
     "output_type": "display_data"
    },
    {
     "data": {
      "text/html": [
       "<div>\n",
       "<style scoped>\n",
       "    .dataframe tbody tr th:only-of-type {\n",
       "        vertical-align: middle;\n",
       "    }\n",
       "\n",
       "    .dataframe tbody tr th {\n",
       "        vertical-align: top;\n",
       "    }\n",
       "\n",
       "    .dataframe thead th {\n",
       "        text-align: right;\n",
       "    }\n",
       "</style>\n",
       "<table border=\"1\" class=\"dataframe\">\n",
       "  <thead>\n",
       "    <tr style=\"text-align: right;\">\n",
       "      <th></th>\n",
       "      <th>id</th>\n",
       "      <th>fdc_id</th>\n",
       "      <th>nutrient_id</th>\n",
       "      <th>amount</th>\n",
       "      <th>data_points</th>\n",
       "      <th>derivation_id</th>\n",
       "    </tr>\n",
       "  </thead>\n",
       "  <tbody>\n",
       "    <tr>\n",
       "      <th>0</th>\n",
       "      <td>4178832</td>\n",
       "      <td>346049</td>\n",
       "      <td>1079</td>\n",
       "      <td>0.00</td>\n",
       "      <td>NaN</td>\n",
       "      <td>75.0</td>\n",
       "    </tr>\n",
       "    <tr>\n",
       "      <th>1</th>\n",
       "      <td>4178833</td>\n",
       "      <td>346049</td>\n",
       "      <td>1087</td>\n",
       "      <td>0.00</td>\n",
       "      <td>NaN</td>\n",
       "      <td>75.0</td>\n",
       "    </tr>\n",
       "    <tr>\n",
       "      <th>2</th>\n",
       "      <td>4178834</td>\n",
       "      <td>346049</td>\n",
       "      <td>1089</td>\n",
       "      <td>2.57</td>\n",
       "      <td>NaN</td>\n",
       "      <td>75.0</td>\n",
       "    </tr>\n",
       "    <tr>\n",
       "      <th>3</th>\n",
       "      <td>4178835</td>\n",
       "      <td>346049</td>\n",
       "      <td>1104</td>\n",
       "      <td>0.00</td>\n",
       "      <td>NaN</td>\n",
       "      <td>75.0</td>\n",
       "    </tr>\n",
       "    <tr>\n",
       "      <th>4</th>\n",
       "      <td>4178836</td>\n",
       "      <td>346049</td>\n",
       "      <td>1162</td>\n",
       "      <td>0.00</td>\n",
       "      <td>NaN</td>\n",
       "      <td>75.0</td>\n",
       "    </tr>\n",
       "  </tbody>\n",
       "</table>\n",
       "</div>"
      ],
      "text/plain": [
       "        id  fdc_id  nutrient_id  amount  data_points  derivation_id\n",
       "0  4178832  346049         1079    0.00          NaN           75.0\n",
       "1  4178833  346049         1087    0.00          NaN           75.0\n",
       "2  4178834  346049         1089    2.57          NaN           75.0\n",
       "3  4178835  346049         1104    0.00          NaN           75.0\n",
       "4  4178836  346049         1162    0.00          NaN           75.0"
      ]
     },
     "execution_count": 3,
     "metadata": {},
     "output_type": "execute_result"
    }
   ],
   "source": [
    "display(food_nutri.shape, food.shape)\n",
    "len(food_nutri['fdc_id'].unique())\n",
    "food_nutri.head()"
   ]
  },
  {
   "cell_type": "code",
   "execution_count": 4,
   "metadata": {},
   "outputs": [],
   "source": [
    "# Creates new column lower_name of lower letters\n",
    "food['brand_name'] = food['description'].str.extract(pat = '([A-Z]{2,})*') \n",
    "food['lower_name'] = food['description'].str.extract(pat = '([^\\d]+)') \n",
    "food['lower_name'] = food['lower_name'].str.strip().str.replace(r',$', '').str.lower()"
   ]
  },
  {
   "cell_type": "code",
   "execution_count": 5,
   "metadata": {},
   "outputs": [],
   "source": [
    "# TODO creates foodname\n",
    "food['description_comma'] = food['description'] + ','\n",
    "food['food_name'] = food['description_comma'].str.extract(pat = '[A-Z]{2,}\\w(.*), \\d')\n"
   ]
  },
  {
   "cell_type": "code",
   "execution_count": 6,
   "metadata": {},
   "outputs": [],
   "source": [
    "# Create food nutrient pairs with nutrient names \n",
    "food_nutri_pair = food_nutri[['fdc_id', 'nutrient_id', 'amount']]\n",
    "food_nutri_pair = food_nutri_pair[food_nutri_pair['amount'] > 0.0]\n",
    "food_nutri_pair['amount'] = np.round(food_nutri_pair['amount'], 2)\n",
    "food_nutri_name = food_nutri_pair.merge(nutri[['id', 'name']], left_on = 'nutrient_id', right_on = 'id', how = 'left').drop(columns = ['id'])"
   ]
  },
  {
   "cell_type": "code",
   "execution_count": 7,
   "metadata": {},
   "outputs": [
    {
     "data": {
      "text/plain": [
       "0                       [Iron, Fe, 2.57]\n",
       "1                        [Protein, 25.0]\n",
       "2             [Total lipid (fat), 14.29]\n",
       "3    [Carbohydrate, by difference, 3.57]\n",
       "4                   [Potassium, K, 27.0]\n",
       "Name: name_amount, dtype: object"
      ]
     },
     "execution_count": 7,
     "metadata": {},
     "output_type": "execute_result"
    }
   ],
   "source": [
    "# food_nutri_name['list_name_amount']\n",
    "food_nutri_name['name_amount'] = food_nutri_name[['name', 'amount']].values.tolist()\n",
    "food_nutri_name['name_amount'].head()"
   ]
  },
  {
   "cell_type": "code",
   "execution_count": 8,
   "metadata": {},
   "outputs": [
    {
     "data": {
      "text/html": [
       "<div>\n",
       "<style scoped>\n",
       "    .dataframe tbody tr th:only-of-type {\n",
       "        vertical-align: middle;\n",
       "    }\n",
       "\n",
       "    .dataframe tbody tr th {\n",
       "        vertical-align: top;\n",
       "    }\n",
       "\n",
       "    .dataframe thead th {\n",
       "        text-align: right;\n",
       "    }\n",
       "</style>\n",
       "<table border=\"1\" class=\"dataframe\">\n",
       "  <thead>\n",
       "    <tr style=\"text-align: right;\">\n",
       "      <th></th>\n",
       "      <th>nutrients</th>\n",
       "    </tr>\n",
       "    <tr>\n",
       "      <th>fdc_id</th>\n",
       "      <th></th>\n",
       "    </tr>\n",
       "  </thead>\n",
       "  <tbody>\n",
       "    <tr>\n",
       "      <th>167512</th>\n",
       "      <td>{'Protein': 5.88, 'Ash': 3.5, 'Energy': 307.0,...</td>\n",
       "    </tr>\n",
       "    <tr>\n",
       "      <th>167513</th>\n",
       "      <td>{'Protein': 4.34, 'Ash': 3.08, 'Energy': 330.0...</td>\n",
       "    </tr>\n",
       "    <tr>\n",
       "      <th>167514</th>\n",
       "      <td>{'Energy': 377.0, 'Sodium, Na': 2182.0, 'Total...</td>\n",
       "    </tr>\n",
       "    <tr>\n",
       "      <th>167515</th>\n",
       "      <td>{'Ash': 1.6, 'Water': 42.6, 'Energy': 232.0, '...</td>\n",
       "    </tr>\n",
       "    <tr>\n",
       "      <th>167516</th>\n",
       "      <td>{'Fatty acids, total saturated': 1.9, 'Vitamin...</td>\n",
       "    </tr>\n",
       "  </tbody>\n",
       "</table>\n",
       "</div>"
      ],
      "text/plain": [
       "                                                nutrients\n",
       "fdc_id                                                   \n",
       "167512  {'Protein': 5.88, 'Ash': 3.5, 'Energy': 307.0,...\n",
       "167513  {'Protein': 4.34, 'Ash': 3.08, 'Energy': 330.0...\n",
       "167514  {'Energy': 377.0, 'Sodium, Na': 2182.0, 'Total...\n",
       "167515  {'Ash': 1.6, 'Water': 42.6, 'Energy': 232.0, '...\n",
       "167516  {'Fatty acids, total saturated': 1.9, 'Vitamin..."
      ]
     },
     "execution_count": 8,
     "metadata": {},
     "output_type": "execute_result"
    }
   ],
   "source": [
    "# Creates a dictionary of nutrients for each food item\n",
    "food_nutri_dict = food_nutri_name.groupby('fdc_id')['name_amount'].agg(lambda s: dict(zip(s.map(lambda x: x[0]).tolist()\n",
    "                                                                             , s.map(lambda y: y[1]).tolist())))\n",
    "\n",
    "food_nutri_dict_df = pd.DataFrame({'nutrients': food_nutri_dict})\n",
    "food_nutri_dict_df.head()"
   ]
  },
  {
   "cell_type": "code",
   "execution_count": 9,
   "metadata": {},
   "outputs": [
    {
     "data": {
      "text/plain": [
       "(281837,)"
      ]
     },
     "metadata": {},
     "output_type": "display_data"
    },
    {
     "data": {
      "text/plain": [
       "(292060, 9)"
      ]
     },
     "metadata": {},
     "output_type": "display_data"
    }
   ],
   "source": [
    "display(food_nutri_dict.shape, food.shape)"
   ]
  },
  {
   "cell_type": "code",
   "execution_count": 10,
   "metadata": {},
   "outputs": [],
   "source": [
    "# Add the nutrients back to the food table\n",
    "# Run this for only ONE TIME\n",
    "food = food.merge(food_nutri_dict_df, left_on = 'fdc_id', right_on = 'fdc_id', how = 'left')"
   ]
  },
  {
   "cell_type": "code",
   "execution_count": 11,
   "metadata": {
    "scrolled": false
   },
   "outputs": [],
   "source": [
    "\n",
    "food_json = food[['lower_name', 'nutrients']].set_index(food['fdc_id'])\n",
    "# Export = food_json.to_json (r'/Users/daniel/Documents/College/FunnelFoods/food_nutrients.json', orient='index')"
   ]
  },
  {
   "cell_type": "code",
   "execution_count": 12,
   "metadata": {},
   "outputs": [],
   "source": [
    "# list of unique nutrients: nutri df\n",
    "food_nutrient_info = food_json.rename(columns = {'lower_name': 'name'})\n",
    "# Export = food_nutrient_info.to_csv(r'/Users/daniel/Documents/College/FunnelFoods/food_nutrients_dict.csv')"
   ]
  },
  {
   "cell_type": "code",
   "execution_count": 141,
   "metadata": {},
   "outputs": [],
   "source": [
    "food_nutri_id_pair = food_nutri[['fdc_id', 'nutrient_id']][food_nutri['amount'] > 0]\n",
    "food_nutri_id_pair = food_nutri_id_pair.reset_index(drop = True)\n",
    "\n",
    "# Export = food_nutri_id_pair.to_csv(r'/Users/daniel/Documents/College/FunnelFoods/food_nutrient_id_pair.csv')"
   ]
  },
  {
   "cell_type": "code",
   "execution_count": null,
   "metadata": {},
   "outputs": [],
   "source": [
    "b_fdc_list = [320385,\n",
    " 320397,\n",
    " 334782,\n",
    " 334797,\n",
    " 334819,\n",
    " 334829,\n",
    " 334857,\n",
    " 334874,\n",
    " 334924,\n",
    " 334941,\n",
    " 334973,\n",
    " 334991,\n",
    " 335022,\n",
    " 335039,\n",
    " 335082,\n",
    " 335094]\n",
    "b_fdc_list\n",
    "\n",
    "food.loc[food['fdc_id'].isin(b_fdc_list), 'lower_name'] = food[food['fdc_id'].isin(b_fdc_list)]['description'].str.lower().str.extract(r'b12, b6, b3, b2 - (.+)')[0]"
   ]
  },
  {
   "cell_type": "code",
   "execution_count": 142,
   "metadata": {},
   "outputs": [
    {
     "data": {
      "text/html": [
       "<div>\n",
       "<style scoped>\n",
       "    .dataframe tbody tr th:only-of-type {\n",
       "        vertical-align: middle;\n",
       "    }\n",
       "\n",
       "    .dataframe tbody tr th {\n",
       "        vertical-align: top;\n",
       "    }\n",
       "\n",
       "    .dataframe thead th {\n",
       "        text-align: right;\n",
       "    }\n",
       "</style>\n",
       "<table border=\"1\" class=\"dataframe\">\n",
       "  <thead>\n",
       "    <tr style=\"text-align: right;\">\n",
       "      <th></th>\n",
       "      <th>fdc_id</th>\n",
       "      <th>data_type</th>\n",
       "      <th>description</th>\n",
       "      <th>food_category_id</th>\n",
       "      <th>publication_date</th>\n",
       "      <th>brand_name</th>\n",
       "      <th>lower_name</th>\n",
       "      <th>description_comma</th>\n",
       "      <th>food_name</th>\n",
       "      <th>nutrients</th>\n",
       "    </tr>\n",
       "  </thead>\n",
       "  <tbody>\n",
       "    <tr>\n",
       "      <th>260001</th>\n",
       "      <td>321510</td>\n",
       "      <td>sub_sample_food</td>\n",
       "      <td>Beans snap canned drained</td>\n",
       "      <td>11.0</td>\n",
       "      <td>2019-04-01</td>\n",
       "      <td>NaN</td>\n",
       "      <td>beans snap canned drained</td>\n",
       "      <td>Beans snap canned drained,</td>\n",
       "      <td>NaN</td>\n",
       "      <td>{'Calcium, Ca': 35.0, 'Copper, Cu': 0.04, 'Iro...</td>\n",
       "    </tr>\n",
       "    <tr>\n",
       "      <th>260002</th>\n",
       "      <td>321511</td>\n",
       "      <td>sub_sample_food</td>\n",
       "      <td>Beans, snap, canned, drained - NFY1211Z9</td>\n",
       "      <td>11.0</td>\n",
       "      <td>2019-04-01</td>\n",
       "      <td>NaN</td>\n",
       "      <td>beans, snap, canned, drained - nfy</td>\n",
       "      <td>Beans, snap, canned, drained - NFY1211Z9,</td>\n",
       "      <td>NaN</td>\n",
       "      <td>{'Ash': 0.94, 'Total lipid (fat)': 0.43, 'Wate...</td>\n",
       "    </tr>\n",
       "    <tr>\n",
       "      <th>260004</th>\n",
       "      <td>321519</td>\n",
       "      <td>sub_sample_food</td>\n",
       "      <td>Beans snap canned drained</td>\n",
       "      <td>11.0</td>\n",
       "      <td>2019-04-01</td>\n",
       "      <td>NaN</td>\n",
       "      <td>beans snap canned drained</td>\n",
       "      <td>Beans snap canned drained,</td>\n",
       "      <td>NaN</td>\n",
       "      <td>{'Calcium, Ca': 37.0, 'Copper, Cu': 0.04, 'Iro...</td>\n",
       "    </tr>\n",
       "    <tr>\n",
       "      <th>260005</th>\n",
       "      <td>321520</td>\n",
       "      <td>sub_sample_food</td>\n",
       "      <td>Beans, snap, canned, drained - NFY1211ZM</td>\n",
       "      <td>11.0</td>\n",
       "      <td>2019-04-01</td>\n",
       "      <td>NaN</td>\n",
       "      <td>beans, snap, canned, drained - nfy</td>\n",
       "      <td>Beans, snap, canned, drained - NFY1211ZM,</td>\n",
       "      <td>NaN</td>\n",
       "      <td>{'Ash': 1.05, 'Total lipid (fat)': 0.38, 'Wate...</td>\n",
       "    </tr>\n",
       "    <tr>\n",
       "      <th>260007</th>\n",
       "      <td>321525</td>\n",
       "      <td>sub_sample_food</td>\n",
       "      <td>Beans snap canned drained</td>\n",
       "      <td>11.0</td>\n",
       "      <td>2019-04-01</td>\n",
       "      <td>NaN</td>\n",
       "      <td>beans snap canned drained</td>\n",
       "      <td>Beans snap canned drained,</td>\n",
       "      <td>NaN</td>\n",
       "      <td>{'Calcium, Ca': 34.0, 'Copper, Cu': 0.06, 'Iro...</td>\n",
       "    </tr>\n",
       "  </tbody>\n",
       "</table>\n",
       "</div>"
      ],
      "text/plain": [
       "        fdc_id        data_type                               description  \\\n",
       "260001  321510  sub_sample_food                 Beans snap canned drained   \n",
       "260002  321511  sub_sample_food  Beans, snap, canned, drained - NFY1211Z9   \n",
       "260004  321519  sub_sample_food                 Beans snap canned drained   \n",
       "260005  321520  sub_sample_food  Beans, snap, canned, drained - NFY1211ZM   \n",
       "260007  321525  sub_sample_food                 Beans snap canned drained   \n",
       "\n",
       "        food_category_id publication_date brand_name  \\\n",
       "260001              11.0       2019-04-01        NaN   \n",
       "260002              11.0       2019-04-01        NaN   \n",
       "260004              11.0       2019-04-01        NaN   \n",
       "260005              11.0       2019-04-01        NaN   \n",
       "260007              11.0       2019-04-01        NaN   \n",
       "\n",
       "                                lower_name  \\\n",
       "260001           beans snap canned drained   \n",
       "260002  beans, snap, canned, drained - nfy   \n",
       "260004           beans snap canned drained   \n",
       "260005  beans, snap, canned, drained - nfy   \n",
       "260007           beans snap canned drained   \n",
       "\n",
       "                                description_comma food_name  \\\n",
       "260001                 Beans snap canned drained,       NaN   \n",
       "260002  Beans, snap, canned, drained - NFY1211Z9,       NaN   \n",
       "260004                 Beans snap canned drained,       NaN   \n",
       "260005  Beans, snap, canned, drained - NFY1211ZM,       NaN   \n",
       "260007                 Beans snap canned drained,       NaN   \n",
       "\n",
       "                                                nutrients  \n",
       "260001  {'Calcium, Ca': 35.0, 'Copper, Cu': 0.04, 'Iro...  \n",
       "260002  {'Ash': 0.94, 'Total lipid (fat)': 0.43, 'Wate...  \n",
       "260004  {'Calcium, Ca': 37.0, 'Copper, Cu': 0.04, 'Iro...  \n",
       "260005  {'Ash': 1.05, 'Total lipid (fat)': 0.38, 'Wate...  \n",
       "260007  {'Calcium, Ca': 34.0, 'Copper, Cu': 0.06, 'Iro...  "
      ]
     },
     "execution_count": 142,
     "metadata": {},
     "output_type": "execute_result"
    }
   ],
   "source": [
    "temp = food[~np.isnan(food['food_category_id'])]\n",
    "food_categorizied_nutrients = temp[~temp['nutrients'].isnull()]\n",
    "food_categorizied_nutrients.head()"
   ]
  },
  {
   "cell_type": "code",
   "execution_count": 42,
   "metadata": {},
   "outputs": [],
   "source": [
    "food_nutri_amount = food_nutri[['fdc_id', 'nutrient_id', 'amount']][food_nutri['amount'] > 0]\n",
    "# Export = food_nutri_amount.to_csv(r'food_nutrient_amount.csv')"
   ]
  },
  {
   "cell_type": "code",
   "execution_count": 143,
   "metadata": {},
   "outputs": [],
   "source": [
    "food_categorized_nurtrients_w_name = food_categorizied_nutrients.merge(categ, left_on = 'food_category_id', right_on = 'id', how= 'left')[\n",
    "    ['fdc_id', 'lower_name', 'nutrients','food_category_id', 'description_y', ]\n",
    "        ].rename(columns = {\n",
    "    'lower_name':'food_name', \n",
    "    'description_y':'category_name',\n",
    "})"
   ]
  },
  {
   "cell_type": "code",
   "execution_count": 144,
   "metadata": {
    "scrolled": true
   },
   "outputs": [
    {
     "data": {
      "text/html": [
       "<div>\n",
       "<style scoped>\n",
       "    .dataframe tbody tr th:only-of-type {\n",
       "        vertical-align: middle;\n",
       "    }\n",
       "\n",
       "    .dataframe tbody tr th {\n",
       "        vertical-align: top;\n",
       "    }\n",
       "\n",
       "    .dataframe thead th {\n",
       "        text-align: right;\n",
       "    }\n",
       "</style>\n",
       "<table border=\"1\" class=\"dataframe\">\n",
       "  <thead>\n",
       "    <tr style=\"text-align: right;\">\n",
       "      <th></th>\n",
       "      <th>fdc_id</th>\n",
       "      <th>food_name</th>\n",
       "      <th>nutrients</th>\n",
       "      <th>food_category_id</th>\n",
       "      <th>category_name</th>\n",
       "    </tr>\n",
       "  </thead>\n",
       "  <tbody>\n",
       "    <tr>\n",
       "      <th>0</th>\n",
       "      <td>321510</td>\n",
       "      <td>beans snap canned drained</td>\n",
       "      <td>{'Calcium, Ca': 35.0, 'Copper, Cu': 0.04, 'Iro...</td>\n",
       "      <td>11.0</td>\n",
       "      <td>Vegetables and Vegetable Products</td>\n",
       "    </tr>\n",
       "    <tr>\n",
       "      <th>1</th>\n",
       "      <td>321511</td>\n",
       "      <td>beans, snap, canned, drained - nfy</td>\n",
       "      <td>{'Ash': 0.94, 'Total lipid (fat)': 0.43, 'Wate...</td>\n",
       "      <td>11.0</td>\n",
       "      <td>Vegetables and Vegetable Products</td>\n",
       "    </tr>\n",
       "    <tr>\n",
       "      <th>2</th>\n",
       "      <td>321519</td>\n",
       "      <td>beans snap canned drained</td>\n",
       "      <td>{'Calcium, Ca': 37.0, 'Copper, Cu': 0.04, 'Iro...</td>\n",
       "      <td>11.0</td>\n",
       "      <td>Vegetables and Vegetable Products</td>\n",
       "    </tr>\n",
       "    <tr>\n",
       "      <th>3</th>\n",
       "      <td>321520</td>\n",
       "      <td>beans, snap, canned, drained - nfy</td>\n",
       "      <td>{'Ash': 1.05, 'Total lipid (fat)': 0.38, 'Wate...</td>\n",
       "      <td>11.0</td>\n",
       "      <td>Vegetables and Vegetable Products</td>\n",
       "    </tr>\n",
       "    <tr>\n",
       "      <th>4</th>\n",
       "      <td>321525</td>\n",
       "      <td>beans snap canned drained</td>\n",
       "      <td>{'Calcium, Ca': 34.0, 'Copper, Cu': 0.06, 'Iro...</td>\n",
       "      <td>11.0</td>\n",
       "      <td>Vegetables and Vegetable Products</td>\n",
       "    </tr>\n",
       "  </tbody>\n",
       "</table>\n",
       "</div>"
      ],
      "text/plain": [
       "   fdc_id                           food_name  \\\n",
       "0  321510           beans snap canned drained   \n",
       "1  321511  beans, snap, canned, drained - nfy   \n",
       "2  321519           beans snap canned drained   \n",
       "3  321520  beans, snap, canned, drained - nfy   \n",
       "4  321525           beans snap canned drained   \n",
       "\n",
       "                                           nutrients  food_category_id  \\\n",
       "0  {'Calcium, Ca': 35.0, 'Copper, Cu': 0.04, 'Iro...              11.0   \n",
       "1  {'Ash': 0.94, 'Total lipid (fat)': 0.43, 'Wate...              11.0   \n",
       "2  {'Calcium, Ca': 37.0, 'Copper, Cu': 0.04, 'Iro...              11.0   \n",
       "3  {'Ash': 1.05, 'Total lipid (fat)': 0.38, 'Wate...              11.0   \n",
       "4  {'Calcium, Ca': 34.0, 'Copper, Cu': 0.06, 'Iro...              11.0   \n",
       "\n",
       "                       category_name  \n",
       "0  Vegetables and Vegetable Products  \n",
       "1  Vegetables and Vegetable Products  \n",
       "2  Vegetables and Vegetable Products  \n",
       "3  Vegetables and Vegetable Products  \n",
       "4  Vegetables and Vegetable Products  "
      ]
     },
     "execution_count": 144,
     "metadata": {},
     "output_type": "execute_result"
    }
   ],
   "source": [
    "food_categorized_nurtrients_w_name.head()"
   ]
  },
  {
   "cell_type": "code",
   "execution_count": 146,
   "metadata": {},
   "outputs": [],
   "source": [
    "food_categorized_nurtrients_w_name[food_categorized_nurtrients_w_name['fdc_id'].isin(b_fdc_list)]\n",
    "# Export = food_categorized_nurtrients_w_name.to_csv(r'food_categorized_nurtrients_w_name.csv')"
   ]
  },
  {
   "cell_type": "code",
   "execution_count": null,
   "metadata": {},
   "outputs": [],
   "source": []
  }
 ],
 "metadata": {
  "kernelspec": {
   "display_name": "Python 3",
   "language": "python",
   "name": "python3"
  },
  "language_info": {
   "codemirror_mode": {
    "name": "ipython",
    "version": 3
   },
   "file_extension": ".py",
   "mimetype": "text/x-python",
   "name": "python",
   "nbconvert_exporter": "python",
   "pygments_lexer": "ipython3",
   "version": "3.7.1"
  }
 },
 "nbformat": 4,
 "nbformat_minor": 2
}
