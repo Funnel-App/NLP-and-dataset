{
 "cells": [
  {
   "cell_type": "code",
   "execution_count": 1,
   "metadata": {},
   "outputs": [],
   "source": [
    "import difflib"
   ]
  },
  {
   "cell_type": "code",
   "execution_count": 2,
   "metadata": {},
   "outputs": [],
   "source": [
    "foodList = open(\"/Users/wenlonghuang/GoogleDrive/funnel/foodList.txt\")\n",
    "foodList = foodList.readlines()\n",
    "for i in range(len(foodList)):\n",
    "    foodList[i] = foodList[i][:-1]"
   ]
  },
  {
   "cell_type": "code",
   "execution_count": 3,
   "metadata": {},
   "outputs": [],
   "source": [
    "def examineDecimal(line, dot_idx):\n",
    "    if dot_idx != len(line) - 1:\n",
    "        try:\n",
    "            int(line[dot_idx + 1])\n",
    "            return True\n",
    "        except:\n",
    "            return False\n",
    "    return False\n",
    "\n",
    "\n",
    "\n",
    "def containsDecimal(line):\n",
    "    results = []\n",
    "    try:\n",
    "        dot_indices = [i for i, x in enumerate(line) if x == \".\"]\n",
    "        # print(dot_indices)\n",
    "        for idx in dot_indices:\n",
    "            results.append(examineDecimal(line, idx))\n",
    "        # print(results)\n",
    "        return any(results)\n",
    "    except:\n",
    "        return False"
   ]
  },
  {
   "cell_type": "code",
   "execution_count": 4,
   "metadata": {},
   "outputs": [],
   "source": [
    "results = []\n",
    "inp = ['Subtotal : $1.95', 'Cooker. $1.95', 'APpLEea 2.1', 'so pee edi ce sald aan hee paxew Uebel er nla', 'Date: 11/14/18, 9:06 PM',\n",
    "       'Order# 3913644', 'Se (510) 843-5252', 'wn berkeley, CA 94704', 's; 2300 College Ave.']\n",
    "for line in inp:\n",
    "    if containsDecimal(line):\n",
    "        words = line.split(' ')\n",
    "        for w in words:\n",
    "            close_matches = difflib.get_close_matches(w.lower(), foodList, n=1, cutoff=0.7)\n",
    "            if close_matches:\n",
    "                results.append(close_matches[0])"
   ]
  },
  {
   "cell_type": "code",
   "execution_count": 5,
   "metadata": {},
   "outputs": [
    {
     "data": {
      "text/plain": [
       "['cookie', 'apple']"
      ]
     },
     "execution_count": 5,
     "metadata": {},
     "output_type": "execute_result"
    }
   ],
   "source": [
    "results"
   ]
  },
  {
   "cell_type": "code",
   "execution_count": null,
   "metadata": {},
   "outputs": [],
   "source": []
  }
 ],
 "metadata": {
  "kernelspec": {
   "display_name": "Python 3",
   "language": "python",
   "name": "python3"
  },
  "language_info": {
   "codemirror_mode": {
    "name": "ipython",
    "version": 3
   },
   "file_extension": ".py",
   "mimetype": "text/x-python",
   "name": "python",
   "nbconvert_exporter": "python",
   "pygments_lexer": "ipython3",
   "version": "3.7.3"
  }
 },
 "nbformat": 4,
 "nbformat_minor": 2
}
