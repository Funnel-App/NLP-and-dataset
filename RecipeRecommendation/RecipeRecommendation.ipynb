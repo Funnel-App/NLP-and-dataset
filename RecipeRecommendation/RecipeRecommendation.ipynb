{
 "cells": [
  {
   "cell_type": "code",
   "execution_count": 70,
   "metadata": {},
   "outputs": [],
   "source": [
    "import csv\n",
    "import numpy as np\n",
    "from pattern.text.en import singularize\n",
    "import ast\n",
    "\n",
    "# import expiration data\n",
    "reader = csv.DictReader(open(\"/Users/wenlonghuang/Google Drive/funnel/expiration_data.csv\"))\n",
    "expiration = []\n",
    "for line in reader:\n",
    "    expiration.append(line)\n",
    "for i in range(len(expiration)):\n",
    "    expiration[i] = dict(expiration[i])\n",
    "    \n",
    "# import recipe\n",
    "reader = csv.DictReader(open(\"/Users/wenlonghuang/Google Drive/funnel/recipe.csv\"))\n",
    "recipe = []\n",
    "for line in reader:\n",
    "    recipe.append(line)\n",
    "for i in range(len(recipe)):\n",
    "    recipe[i] = dict(recipe[i])\n",
    "    recipe[i]['ingredients'] = ast.literal_eval(recipe[i]['ingredients'])\n",
    "\n",
    "# import foodlist\n",
    "foodList = open(\"/Users/wenlonghuang/Google Drive/funnel/foodList.txt\")\n",
    "foodList = foodList.readlines()\n",
    "for i in range(len(foodList)):\n",
    "    foodList[i] = foodList[i][:-1]"
   ]
  },
  {
   "cell_type": "code",
   "execution_count": 71,
   "metadata": {},
   "outputs": [
    {
     "name": "stdout",
     "output_type": "stream",
     "text": [
      "[nltk_data] Downloading package averaged_perceptron_tagger to\n",
      "[nltk_data]     /Users/wenlonghuang/nltk_data...\n",
      "[nltk_data]   Package averaged_perceptron_tagger is already up-to-\n",
      "[nltk_data]       date!\n"
     ]
    }
   ],
   "source": [
    "# import nltk package used for MissingIngredients feature\n",
    "import nltk\n",
    "nltk.download('averaged_perceptron_tagger')\n",
    "import re\n",
    "import pprint\n",
    "from nltk import Tree\n",
    "import pdb\n",
    "\n",
    "\n",
    "patterns=\"\"\"\n",
    "    NP: {<JJ>*<NN*>+}\n",
    "    {<JJ>*<NNS>}\n",
    "    {<JJ>*<NN*><CC>*<NN*>+}\n",
    "    {<NP><CC><NP>}\n",
    "    {<RB><JJ>*<NN*>+}\n",
    "    \"\"\"\n",
    "\n",
    "NPChunker = nltk.RegexpParser(patterns)\n",
    "\n",
    "def prepare_text(input):\n",
    "    sentences = nltk.sent_tokenize(input)\n",
    "    sentences = [nltk.word_tokenize(sent) for sent in sentences] \n",
    "    sentences = [nltk.pos_tag(sent) for sent in sentences]\n",
    "    sentences = [NPChunker.parse(sent) for sent in sentences]\n",
    "    return sentences\n",
    "\n",
    "\n",
    "def parsed_text_to_NP(sentences):\n",
    "    nps = []\n",
    "    for sent in sentences:\n",
    "        tree = NPChunker.parse(sent)\n",
    "        #print(tree)\n",
    "        for subtree in tree.subtrees():\n",
    "            if subtree.label() == 'NP':\n",
    "                t = subtree\n",
    "                #t = ' '.join(word for word, tag in t.leaves())\n",
    "                t = ' '.join(word for word, tag in t.leaves() if (tag == 'NNS') or (tag == 'NN'))\n",
    "                nps.append(t)\n",
    "    return nps\n",
    "\n",
    "\n",
    "def sent_parse(input):\n",
    "    sentences = prepare_text(input)\n",
    "    nps = parsed_text_to_NP(sentences)\n",
    "    return nps"
   ]
  },
  {
   "cell_type": "code",
   "execution_count": 72,
   "metadata": {},
   "outputs": [],
   "source": [
    "# user: list of dictionaries\n",
    "# epiration: list of dictionaries\n",
    "# destructively append \"expiration date\" to each dictionary in \"user\" \n",
    "def addExpirationDates(user, expiration):\n",
    "    for userItem in user:\n",
    "        curr = userItem['name']\n",
    "        curr_split = curr.split(' ')\n",
    "        curr_max = [0, float('inf')]\n",
    "        exactMatched = False\n",
    "        for expItem in expiration:\n",
    "            \n",
    "            # exact match\n",
    "            if curr == expItem['name']:\n",
    "                userItem['expireIn'] = int(expItem['expireIn'])\n",
    "                exactMatched = True\n",
    "                break\n",
    "                \n",
    "            # split into set and find the maximum number of names that also exist in expiration data\n",
    "            expItem_split = expItem['name'].split(' ')\n",
    "            # calculate curr overlap score\n",
    "            overlapped = 0\n",
    "            for i in curr_split:\n",
    "                if i in expItem_split:\n",
    "                    overlapped += 1\n",
    "            if overlapped > curr_max[0]:\n",
    "                curr_max = [overlapped, int(expItem['expireIn'])]\n",
    "            elif overlapped == curr_max[0]:\n",
    "                curr_max[1] = min(curr_max[1], int(expItem['expireIn']))\n",
    "        if curr_max[0] > 0:\n",
    "            userItem['expireIn'] = curr_max[1]\n",
    "        # if no matching found, set -1 as indicator value\n",
    "        elif not exactMatched:\n",
    "            userItem['expireIn'] = -1"
   ]
  },
  {
   "cell_type": "code",
   "execution_count": 73,
   "metadata": {},
   "outputs": [],
   "source": [
    "def generate_parsed(item, foodList):\n",
    "    results = []\n",
    "    if item in foodList:\n",
    "        results += [item]\n",
    "    else:\n",
    "        for w in item.split(' '):\n",
    "            if w in foodList:\n",
    "                results += [w]\n",
    "    return list(set(results))"
   ]
  },
  {
   "cell_type": "code",
   "execution_count": 74,
   "metadata": {},
   "outputs": [],
   "source": [
    "def addParsedUserData(user, foodList):\n",
    "    for item in user:\n",
    "        item['parsed_name'] = generate_parsed(item['name'], foodList)"
   ]
  },
  {
   "cell_type": "code",
   "execution_count": 75,
   "metadata": {},
   "outputs": [],
   "source": [
    "def calculateOverlapScore(user, recipe_item):\n",
    "    score = 0\n",
    "    for userItem in user:\n",
    "        for i in userItem['parsed_name']:\n",
    "            if i in recipe_item['ingredients_processed']:\n",
    "                score += 1\n",
    "    return score"
   ]
  },
  {
   "cell_type": "code",
   "execution_count": 76,
   "metadata": {},
   "outputs": [],
   "source": [
    "def calculateExpireScore(user, recipe_item):\n",
    "    score = 0\n",
    "    for userItem in user:\n",
    "        for i in userItem['parsed_name']:\n",
    "            if i in recipe_item['ingredients_processed']:\n",
    "                score += (1 / userItem['expireIn']) ** 2\n",
    "    return score"
   ]
  },
  {
   "cell_type": "code",
   "execution_count": 77,
   "metadata": {},
   "outputs": [],
   "source": [
    "# due to replicate recipe in recipe data, remove replicate item in top_5\n",
    "def checkRepeated(recipe_item, curr_list):\n",
    "    for i in curr_list:\n",
    "        if recipe_item['title'] == i[0]['title']:\n",
    "            return True\n",
    "    return False"
   ]
  },
  {
   "cell_type": "code",
   "execution_count": 78,
   "metadata": {},
   "outputs": [],
   "source": [
    "def top_5(user, recipe):\n",
    "    top_5 = []\n",
    "    min_score = float('inf')\n",
    "    min_index = 0\n",
    "    for recipe_item in recipe:\n",
    "        if checkRepeated(recipe_item, top_5):\n",
    "            continue\n",
    "        curr_score = calculateOverlapScore(user, recipe_item) + 10 * calculateExpireScore(user, recipe_item)\n",
    "        if len(top_5) < 5:\n",
    "            top_5 += [[recipe_item, curr_score]]\n",
    "            if curr_score < min_score:\n",
    "                min_score = curr_score\n",
    "                min_index = len(top_5) - 1\n",
    "        else:\n",
    "            if curr_score > min_score:\n",
    "                top_5[min_index] = [recipe_item, curr_score]\n",
    "                new_min = float('inf')\n",
    "                for i in range(5):\n",
    "                    if top_5[i][1] < new_min:\n",
    "                        new_min = top_5[i][1]\n",
    "                        min_index = i\n",
    "                min_score = new_min\n",
    "    return top_5"
   ]
  },
  {
   "cell_type": "code",
   "execution_count": 79,
   "metadata": {},
   "outputs": [],
   "source": [
    "# return an array of indices which rank the recipes in recipe list in descending order\n",
    "def recipeRank(user, recipe):\n",
    "    scoreArray = np.zeros(len(recipe))\n",
    "    for i in range(len(recipe)):\n",
    "        curr_score = calculateOverlapScore(user, recipe[i]) + 10 * calculateExpireScore(user, recipe[i])\n",
    "        scoreArray[i] = curr_score\n",
    "    return np.flip(np.argsort(scoreArray), axis=0)"
   ]
  },
  {
   "cell_type": "code",
   "execution_count": 80,
   "metadata": {},
   "outputs": [],
   "source": [
    "# create user data dictionary given a list of scanned food names and return user data\n",
    "def createUserDict(names):\n",
    "    user = []\n",
    "    for name in names:\n",
    "        user += [{'name': name}]\n",
    "    addExpirationDates(user, expiration)\n",
    "    addParsedUserData(user, foodList)\n",
    "    return user"
   ]
  },
  {
   "cell_type": "code",
   "execution_count": 81,
   "metadata": {},
   "outputs": [],
   "source": [
    "def processIngredients(ingredient):\n",
    "    results = []\n",
    "    parsed = [singularize(e) for e in sent_parse(ingredient)]\n",
    "    for element in parsed:\n",
    "        # exact match\n",
    "        if element in foodList:\n",
    "            results += [element]\n",
    "        # split current word and exact match each sub-word\n",
    "        else:\n",
    "            for w in element.split(' '):\n",
    "                if w in foodList:\n",
    "                    results += [w]\n",
    "    return list(set(results))\n",
    "\n",
    "# return overlap percentage for recipeIngredients given userData and recipeIngredients (two lists of strings)\n",
    "def overlapPercentage(userData, recipeIngredients):\n",
    "    count = 0\n",
    "    for i in recipeIngredients:\n",
    "        if i in userData:\n",
    "            count += 1\n",
    "    return count / len(recipeIngredients)\n",
    "\n",
    "# return missing ingredient in readable format given the recommended recipe and current user data\n",
    "# params: recipe -- a dictionary of a recipe\n",
    "#         user -- a list of dictionaries, each containing the name of the grocery items and the parsed_name used for matching algorithm\n",
    "def missingIngredients(recipe, user):\n",
    "    ingredients = recipe['ingredients']\n",
    "    results = []\n",
    "    userSimplified = []\n",
    "    for u in user:\n",
    "        userSimplified += u['parsed_name']\n",
    "    for i in range(len(ingredients)):\n",
    "        simplified = processIngredients(ingredients[i])\n",
    "        if len(simplified) == 0:\n",
    "            results += [ingredients[i]]\n",
    "        elif overlapPercentage(userSimplified, simplified) < 0.5:\n",
    "            results += [ingredients[i]]\n",
    "    return results"
   ]
  },
  {
   "cell_type": "code",
   "execution_count": 82,
   "metadata": {},
   "outputs": [
    {
     "name": "stdout",
     "output_type": "stream",
     "text": [
      "Epi's 50-Ingredient Super Bowl Nachos \n",
      "Mixed Antipasto \n",
      "Individual Sausage, Tomato, and Artichoke-Heart Pizzas \n",
      "Artichoke, Sausage, and Parmesan Cheese Stuffing \n",
      "Stuffed Artichokes \n",
      "['6 (9-ounce) bags restaurant-style tortilla chips', '2 cups store-bought or homemade spinach dip, warmed', '1 large yellow onion, thinly sliced, caramelized', '1 1/2 ounces finely grated Parmesan (about 1/2 cup)', '3/4 cup cherry tomatoes, quartered', '1 pound sliced bacon', '2 large russet potatoes (about 1 1/2 pounds)', 'Kosher salt', 'Freshly ground black pepper', '3 cups ridged potato chips (about 3 ounces)', '8 ounces grated cheddar (about 2 1/2 cups)', '8 ounces grated Monterey Jack (about 2 1/2 cups)', '3/4 cup sour cream, plus more for serving', '2 scallions, thinly sliced', '1/2 teaspoon paprika', '2 tablespoons sliced chives', '1/2 avocado, diced', '4 cups shredded pork baby back rib meat (from about 1 pound ribs), or pulled pork, warmed', '1/2 cup barbecue sauce, plus more for serving', '1/2 cup coarsely chopped pickled jalapeños', '1 cup store-bought or homemade vinegary slaw', '1/4 cup finely chopped white onion', '2 tablespoons cilantro leaves with tender stems', '4 cups marinara sauce, drained in a paper towel-lined colander', '6 ounces Canadian bacon, cubed', '1/2 cup chopped green bell pepper', '1/2 cup chopped orange bell pepper', '1/2 cup chopped red bell pepper', '1/2 cup chopped yellow bell pepper', '1 1/2 ounces finely grated Pecorino Romano (about 1/2 cup)', '1/4 cup black olives, pitted, coarsely chopped', '1/2 teaspoon crushed red pepper flakes', '1/4 teaspoon garlic powder', '1/4 teaspoon dried oregano', '2 tablespoons basil leaves, torn', '4 cups shredded rotisserie chicken (from about a 3-pound rotisserie chicken)', \"1/2 cup buffalo wing sauce (such as Frank's), plus more for serving\", '1 small red onion, thinly sliced', '1 stalk celery with leaves, thinly sliced', '2 pickled pepperoncini peppers, seeded, sliced', '2 cups store-bought or homemade queso dip', '1 crispy tostada bowl or taco salad shell', '1 (18x26”) or 2 (13x18”) baking sheets, lined with foil']\n"
     ]
    }
   ],
   "source": [
    "# example usage: input a list of scanned food names (l), create the processed user data by calling createUserDict, and call recipeRank to obtain the rank the entire recipe dataset specifically for the grocery items the user has\n",
    "l = ['olive', 'cheese', 'mozzarella', 'flour', 'pepperoni', 'sausage', 'yeast', 'ham', 'dough', 'pineapple', 'artichoke']\n",
    "user = createUserDict(l)\n",
    "recipeRanking = recipeRank(user, recipe)\n",
    "# to obtain the titles of the top 5 recommended recipes for the user\n",
    "for i in range(5):\n",
    "    print(recipe[recipeRanking[i]]['title'])\n",
    "# to obtain the missing ingredients for a specific recipe (e.g. the recipe with the highest recommendation score)\n",
    "print(missingIngredients(recipe[recipeRanking[0]], user))"
   ]
  }
 ],
 "metadata": {
  "kernelspec": {
   "display_name": "Python 3",
   "language": "python",
   "name": "python3"
  },
  "language_info": {
   "codemirror_mode": {
    "name": "ipython",
    "version": 3
   },
   "file_extension": ".py",
   "mimetype": "text/x-python",
   "name": "python",
   "nbconvert_exporter": "python",
   "pygments_lexer": "ipython3",
   "version": "3.6.5"
  }
 },
 "nbformat": 4,
 "nbformat_minor": 2
}
