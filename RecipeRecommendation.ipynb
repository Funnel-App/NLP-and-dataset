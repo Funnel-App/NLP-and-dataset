{
 "cells": [
  {
   "cell_type": "code",
   "execution_count": 1,
   "metadata": {},
   "outputs": [],
   "source": [
    "# import expiration data\n",
    "import csv\n",
    "reader = csv.DictReader(open(\"/Users/jefferychen/Desktop/NLP-and-dataset/expiration_data.csv\"))\n",
    "expiration = []\n",
    "for line in reader:\n",
    "    expiration.append(line)\n",
    "for i in range(len(expiration)):\n",
    "    expiration[i] = dict(expiration[i])\n",
    "    \n",
    "# import recipe\n",
    "import csv\n",
    "reader = csv.DictReader(open(\"/Users/jefferychen/Desktop/NLP-and-dataset/recipe.csv\"))\n",
    "recipe = []\n",
    "for line in reader:\n",
    "    recipe.append(line)\n",
    "for i in range(len(recipe)):\n",
    "    recipe[i] = dict(recipe[i])\n",
    "\n",
    "# import foodlist\n",
    "foodList = open(\"/Users/jefferychen/Desktop/NLP-and-dataset/foodList.txt\")\n",
    "foodList = foodList.readlines()\n",
    "for i in range(len(foodList)):\n",
    "    foodList[i] = foodList[i][:-1]"
   ]
  },
  {
   "cell_type": "code",
   "execution_count": 2,
   "metadata": {},
   "outputs": [
    {
     "data": {
      "text/plain": [
       "20111"
      ]
     },
     "execution_count": 2,
     "metadata": {},
     "output_type": "execute_result"
    }
   ],
   "source": [
    "len(recipe)"
   ]
  },
  {
   "cell_type": "code",
   "execution_count": 3,
   "metadata": {},
   "outputs": [],
   "source": [
    "#from pattern.text.en import singularize\n",
    "# user: list of dictionaries\n",
    "# epiration: list of dictionaries\n",
    "# destructively append \"expiration date\" to each dictionary in \"user\" \n",
    "def addExpirationDates(user, expiration):\n",
    "    for userItem in user:\n",
    "        if 'name' in userItem.keys():\n",
    "            curr = userItem['name']\n",
    "            curr_split = curr.split(' ')\n",
    "            curr_max = [0, float('inf')]\n",
    "            exactMatched = False\n",
    "            for expItem in expiration:\n",
    "\n",
    "                # exact match\n",
    "                if curr == expItem['name']:\n",
    "                    userItem['expireIn'] = int(expItem['expireIn'])\n",
    "                    exactMatched = True\n",
    "                    break\n",
    "\n",
    "                # split into set and find the maximum number of names that also exist in expiration data\n",
    "                expItem_split = expItem['name'].split(' ')\n",
    "                # calculate curr overlap score\n",
    "                overlapped = 0\n",
    "                for i in curr_split:\n",
    "                    if i in expItem_split:\n",
    "                        overlapped += 1\n",
    "                if overlapped > curr_max[0]:\n",
    "                    curr_max = [overlapped, int(expItem['expireIn'])]\n",
    "                elif overlapped == curr_max[0]:\n",
    "                    curr_max[1] = min(curr_max[1], int(expItem['expireIn']))\n",
    "            if curr_max[0] > 0:\n",
    "                userItem['expireIn'] = curr_max[1]\n",
    "            # if no matching found, set -1 as indicator value\n",
    "            elif not exactMatched:\n",
    "                userItem['expireIn'] = -1"
   ]
  },
  {
   "cell_type": "code",
   "execution_count": 4,
   "metadata": {},
   "outputs": [],
   "source": [
    "def generate_parsed(item, foodList):\n",
    "    results = []\n",
    "    if item in foodList:\n",
    "        results += [item]\n",
    "    else:\n",
    "        for w in item.split(' '):\n",
    "            if w in foodList:\n",
    "                results += [w]\n",
    "    return list(set(results))"
   ]
  },
  {
   "cell_type": "code",
   "execution_count": 5,
   "metadata": {},
   "outputs": [],
   "source": [
    "def addParsedUserData(user, foodList):\n",
    "    for item in user:\n",
    "        if 'name' in item.keys():\n",
    "            item['parsed_name'] = generate_parsed(item['name'], foodList)"
   ]
  },
  {
   "cell_type": "code",
   "execution_count": 6,
   "metadata": {},
   "outputs": [],
   "source": [
    "def calculateOverlapScore(user, recipe_item):\n",
    "    score = 0\n",
    "    for userItem in user:\n",
    "        if 'parsed_name' in userItem.keys():\n",
    "            for i in userItem['parsed_name']:\n",
    "                if i in recipe_item['ingredients_processed']:\n",
    "                    score += 1\n",
    "    return score"
   ]
  },
  {
   "cell_type": "code",
   "execution_count": 7,
   "metadata": {},
   "outputs": [],
   "source": [
    "def calculateExpireScore(user, recipe_item):\n",
    "    score = 0\n",
    "    for userItem in user:\n",
    "        if 'parsed_name' in userItem.keys():\n",
    "            for i in userItem['parsed_name']:\n",
    "                if i in recipe_item['ingredients_processed']:\n",
    "                    score += (1 / userItem['expireIn']) ** 2\n",
    "    return score"
   ]
  },
  {
   "cell_type": "code",
   "execution_count": 8,
   "metadata": {},
   "outputs": [],
   "source": [
    "# due to replicate recipe in recipe data, remove replicate item in top_5\n",
    "def checkRepeated(recipe_item, curr_list):\n",
    "    for i in curr_list:\n",
    "        if recipe_item['title'] == i[0]['title']:\n",
    "            return True\n",
    "    return False"
   ]
  },
  {
   "cell_type": "code",
   "execution_count": 9,
   "metadata": {},
   "outputs": [],
   "source": [
    "def top_5(user, recipe):\n",
    "    top_5 = []\n",
    "    min_score = float('inf')\n",
    "    min_index = 0\n",
    "    for recipe_item in recipe:\n",
    "        if checkRepeated(recipe_item, top_5):\n",
    "            continue\n",
    "        curr_score = calculateOverlapScore(user, recipe_item) + 10 * calculateExpireScore(user, recipe_item)\n",
    "        if len(top_5) < 5:\n",
    "            top_5 += [[recipe_item, curr_score]]\n",
    "            if curr_score < min_score:\n",
    "                min_score = curr_score\n",
    "                min_index = len(top_5) - 1\n",
    "        else:\n",
    "            if curr_score > min_score:\n",
    "                top_5[min_index] = [recipe_item, curr_score]\n",
    "                new_min = float('inf')\n",
    "                for i in range(5):\n",
    "                    if top_5[i][1] < new_min:\n",
    "                        new_min = top_5[i][1]\n",
    "                        min_index = i\n",
    "                min_score = new_min\n",
    "    return top_5"
   ]
  },
  {
   "cell_type": "code",
   "execution_count": 10,
   "metadata": {},
   "outputs": [],
   "source": [
    "# create user data dictionary given a list of scanned food names and return user data\n",
    "def createUserDict(names):\n",
    "    user = []\n",
    "    for name in names:\n",
    "        user += [{'name': name}]\n",
    "    addExpirationDates(user, expiration)\n",
    "    addParsedUserData(user, foodList)\n",
    "    return user"
   ]
  },
  {
   "cell_type": "code",
   "execution_count": 11,
   "metadata": {},
   "outputs": [],
   "source": [
    "import copy\n",
    "def continuousTop5(user, recipe):\n",
    "    #nonlocal recipe_copy\n",
    "    recipe_copy = copy.deepcopy(recipe)\n",
    "    def g():\n",
    "        curr = top_5(user, recipe_copy)\n",
    "        for i in curr:\n",
    "            recipe_copy.remove(i[0])\n",
    "        return curr\n",
    "    return g"
   ]
  },
  {
   "cell_type": "code",
   "execution_count": 12,
   "metadata": {},
   "outputs": [
    {
     "data": {
      "text/plain": [
       "[{'name': 'olive', 'expireIn': 60, 'parsed_name': ['olive']},\n",
       " {'name': 'cheese', 'expireIn': 7, 'parsed_name': ['cheese']},\n",
       " {'name': 'mozzarella', 'expireIn': 360, 'parsed_name': ['mozzarella']},\n",
       " {'name': 'flour', 'expireIn': 30, 'parsed_name': []},\n",
       " {'name': 'pepperoni', 'expireIn': -1, 'parsed_name': ['pepperoni']},\n",
       " {'name': 'sausage', 'expireIn': 1, 'parsed_name': ['sausage']},\n",
       " {'name': 'yeast', 'expireIn': 5, 'parsed_name': ['yeast']},\n",
       " {'name': 'ham', 'expireIn': 3, 'parsed_name': ['ham']},\n",
       " {'name': 'dough', 'expireIn': -1, 'parsed_name': []},\n",
       " {'name': 'pineapple', 'expireIn': 720, 'parsed_name': ['pineapple']},\n",
       " {'name': 'artichoke', 'expireIn': 2, 'parsed_name': ['artichoke']}]"
      ]
     },
     "execution_count": 12,
     "metadata": {},
     "output_type": "execute_result"
    }
   ],
   "source": [
    "# example usage: input a list of scanned food names (l), create the processed user data by calling createUserDict\n",
    "l = ['olive', 'cheese', 'mozzarella', 'flour', 'pepperoni', 'sausage', 'yeast', 'ham', 'dough', 'pineapple', 'artichoke']\n",
    "user = createUserDict(l)\n",
    "#Sample user data (a list of dictionaries)\n",
    "user"
   ]
  },
  {
   "cell_type": "code",
   "execution_count": 13,
   "metadata": {},
   "outputs": [
    {
     "data": {
      "text/plain": [
       "[[{'directions': \"['In a small bowl whisk together the garlic, the vinegars, the rosemary, the basil, the orégano, the red pepper flakes, and salt and pepper to taste, add the oil in a stream, whisking, and whisk the marinade until it is emulsified.', 'In a large saucepan of boiling water blanch the carrots and the fennel for 3 to 4 minutes, or until they are crisp-tender, drain them, and plunge them into a bowl of ice and cold water. Let the vegetables cool and drain them well. In a large bowl toss together the carrots, the fennel, the roasted peppers, the peperoncini, the olives, the sun-dried tomatoes, the bocconcini, the pepperoni, the artichoke hearts, the marinade, the minced parsley until the antipasto is combined well and chill the antipasto, covered, for at least 4 hours or overnight. Transfer the antipasto to a platter, garnish it with the parsley sprigs, and serve it at room temperature.']\",\n",
       "   'fat': '55.0',\n",
       "   'date': '2004-08-20T04:00:00.000Z',\n",
       "   'categories': \"['Olive', 'Pepper', 'Tomato', 'Appetizer', 'Buffet', 'Mozzarella', 'Meat', 'Artichoke', 'Fennel', 'Carrot', 'Gourmet']\",\n",
       "   'calories': '761.0',\n",
       "   'desc': '',\n",
       "   'protein': '30.0',\n",
       "   'rating': '5.0',\n",
       "   'title': 'Mixed Antipasto ',\n",
       "   'ingredients': \"['1 large garlic clove, minced', '2 tablespoons balsamic vinegar', '2 tablespoons red-wine vinegar', '1/2 teaspoon crumbled dried rosemary', '1 teaspoon dried basil, crumbled', '1 teaspoon dried orégano, crumbled', '1/4 teaspoon dried hot red pepper flakes, or to taste', '1/2 cup olive oil', '3 large carrots, cut diagonally into 1/4-inch-thick slices', '2 small fennel bulbs (about 1 1/2 pounds), cut crosswise into 1/4-inch-thick slices (about 3 cups)', '2 red bell peppers, roasted and cut into strips', '2 yellow bell peppers, roasted and cut into strips', 'a 12-ounce jar peperoncini (pickled Tuscan peppers), rinsed and \\\\xa0drained well', '3/4 pound black or green brine-cured olives or a combination', '1/4 pound sun-dried tomatoes packed in oil, drained and cut into \\\\xa0strips', '3/4 pound marinated or plain bocconcini (small mozzarella balls,\\\\xa0available at specialty foods shops and some supermarkets)', '1/2 pound pepperoni or soppressata (hard Italian sausage, available\\\\xa0at Italian markets, some butcher shops, and, some specialty foods \\\\xa0shops), cut crosswise into 1/4-inch-thick slices and the slices \\\\xa0quartered', 'two 7-ounce jars marinated artichoke hearts, rinsed and drained well', '1/3 cup minced fresh parsley leaves plus, if desired, parsley sprigs for \\\\xa0garnish']\",\n",
       "   'sodium': '2415.0',\n",
       "   'ingredients_processed': \"['clove', 'pound', 'parsley', 'carrot', 'heart', 'pepperoni', 'olife', 'fennel bulb', 'mozzarella', 'pepper', 'tomato', 'vinegar', 'sausage', 'artichoke', 'basil', 'oil', 'rosemary']\"},\n",
       "  26.500077160493824],\n",
       " [{'directions': '[\\'Preheat oven to 400°F. Plan to create 5 sections of nacho flavors, each section with 3 layers of ingredients. Spread one-third of the chips in an even layer on foil-lined baking sheet, then follow the directions to build each section. Once all sections are assembled, bake until cheese is melted and ingredients are hot, 8–10 minutes. Then finish with fresh toppings.\\', \\'Working in the first section, spread one-third of the spinach dip over chips with a spoon. Top with one-third of the onions, artichoke hearts, Fontina, and Parmesan. Repeat with 2 more layers of chips and ingredients.\\', \\'After baking, top with sliced tomatoes.\\', \\'Cook bacon in a large skillet over medium heat, working in batches if necessary, until crisp, about 10 minutes. Transfer to a paper-towel lined plate. Crumble bacon once cooled. Pour fat from skillet into a heatproof bowl, leaving burned bits in skillet. Wipe out skillet and return bacon fat to skillet.\\', \\'Peel potatoes in long, thin strips, reserving potato skins. Heat skillet with fat over medium-high and fry potato skins, turning, until golden brown, 4–6 minutes. Transfer skins to another paper towel-lined plate, reserving fat in skillet; season skins with salt.\\', \\'Cut potato flesh into 1/2\" cubes. Heat skillet with fat over medium and add potatoes. Season with salt and pepper and cook, stirring occasionally, until potatoes are golden brown and cooked through, 8–12 minutes. Transfer to another paper towel-lined plate.\\', \\'Working in the second section, top tortilla chips with one-third of the potato chips, cubed potatoes, bacon, cheddar, Monterey Jack, 3/4 cup sour cream, scallions, and paprika. Repeat with 2 more layers of chips and ingredients.\\', \\'After baking, top with additional sour cream, fried potato skin strips, chives, avocado, and pepper.\\', \\'Toss pork in 1/2 cup barbecue sauce in a large bowl. Working in the third section, top tortilla chips with one-third of the pork, mozzarella, and jalapeños. Repeat with 2 more layers of chips and ingredients.\\', \\'After baking, drizzle with additional barbecue sauce and top with slaw, white onion, and cilantro.\\', \\'Working in the fourth section, drizzle tortilla chips with one-third of the marinara sauce, then top with one-third of the pepperoni, Canadian bacon, sausage, bell peppers, mozzarella, and Pecorino. Repeat with 2 more layers of chips and ingredients.\\', \\'After baking, top with olives, red pepper flakes, garlic powder, oregano, and basil.\\', \\'Toss chicken in 1/2 cup buffalo wing sauce in a large bowl. Working in the fifth section, top tortilla chips with one-third of the chicken, Colby cheese, blue cheese, and red onion. Repeat with 2 more layers of chips and ingredients.\\', \\'After baking, drizzle with additional wing sauce and top with celery stalks, leaves, and pepperoncini peppers.\\', \\'While nachos bake, heat queso dip until hot in microwave or in a heatproof bowl set over a pot of barely simmering water. Place tostada bowl in the center of the baked nachos and fill with queso dip. Serve immediately.\\']',\n",
       "   'fat': '71.0',\n",
       "   'date': '2016-02-10T18:30:00.000Z',\n",
       "   'categories': '[\\'Super Bowl\\', \\'Entertaining\\', \\'Party\\', \"Hors D\\'Oeuvre\", \\'Chicken\\', \\'Grill/Barbecue\\', \\'Tortillas\\', \\'Cheese\\', \\'Appetizer\\', \\'Pizza\\', \\'Potato\\', \\'Spinach\\', \\'Artichoke\\', \\'Peanut Free\\', \\'Tree Nut Free\\', \\'Soy Free\\']',\n",
       "   'calories': '1103.0',\n",
       "   'desc': \"Our epic 50-ingredient nachos combine everyone's favorite Super Bowl flavors all in one show-stopping dish. Make all five kinds of nachos or just choose your favorites; either way, you've got a winner.\",\n",
       "   'protein': '53.0',\n",
       "   'rating': '4.375',\n",
       "   'title': \"Epi's 50-Ingredient Super Bowl Nachos \",\n",
       "   'ingredients': '[\\'6 (9-ounce) bags restaurant-style tortilla chips\\', \\'2 cups store-bought or homemade spinach dip, warmed\\', \\'1 large yellow onion, thinly sliced, caramelized\\', \\'12 ounces marinated artichoke hearts, drained, coarsely chopped (about 2 cups)\\', \\'10 ounces grated Fontina cheese (about 4 cups)\\', \\'1 1/2 ounces finely grated Parmesan (about 1/2 cup)\\', \\'3/4 cup cherry tomatoes, quartered\\', \\'1 pound sliced bacon\\', \\'2 large russet potatoes (about 1 1/2 pounds)\\', \\'Kosher salt\\', \\'Freshly ground black pepper\\', \\'3 cups ridged potato chips (about 3 ounces)\\', \\'8 ounces grated cheddar (about 2 1/2 cups)\\', \\'8 ounces grated Monterey Jack (about 2 1/2 cups)\\', \\'3/4 cup sour cream, plus more for serving\\', \\'2 scallions, thinly sliced\\', \\'1/2 teaspoon paprika\\', \\'2 tablespoons sliced chives\\', \\'1/2 avocado, diced\\', \\'4 cups shredded pork baby back rib meat (from about 1 pound ribs), or pulled pork, warmed\\', \\'1/2 cup barbecue sauce, plus more for serving\\', \\'1 pound shredded smoked mozzarella (about 4 cups)\\', \\'1/2 cup coarsely chopped pickled jalapeños\\', \\'1 cup store-bought or homemade vinegary slaw\\', \\'1/4 cup finely chopped white onion\\', \\'2 tablespoons cilantro leaves with tender stems\\', \\'4 cups marinara sauce, drained in a paper towel-lined colander\\', \\'6 ounces sliced pepperoni\\', \\'6 ounces Canadian bacon, cubed\\', \\'10 ounces fresh Italian sausage (about 3 links), casing removed, crumbled, cooked\\', \\'1/2 cup chopped green bell pepper\\', \\'1/2 cup chopped orange bell pepper\\', \\'1/2 cup chopped red bell pepper\\', \\'1/2 cup chopped yellow bell pepper\\', \\'1 pound grated mozzarella, (about 4 cups)\\', \\'1 1/2 ounces finely grated Pecorino Romano (about 1/2 cup)\\', \\'1/4 cup black olives, pitted, coarsely chopped\\', \\'1/2 teaspoon crushed red pepper flakes\\', \\'1/4 teaspoon garlic powder\\', \\'1/4 teaspoon dried oregano\\', \\'2 tablespoons basil leaves, torn\\', \\'4 cups shredded rotisserie chicken (from about a 3-pound rotisserie chicken)\\', \"1/2 cup buffalo wing sauce (such as Frank\\'s), plus more for serving\", \\'13 ounces shredded Colby or Colby-Jack cheese (about 4 cups)\\', \\'4 ounces crumbled blue cheese (about 2/3 cup)\\', \\'1 small red onion, thinly sliced\\', \\'1 stalk celery with leaves, thinly sliced\\', \\'2 pickled pepperoncini peppers, seeded, sliced\\', \\'2 cups store-bought or homemade queso dip\\', \\'1 crispy tostada bowl or taco salad shell\\', \\'1 (18x26”) or 2 (13x18”) baking sheets, lined with foil\\']',\n",
       "   'sodium': '1717.0',\n",
       "   'ingredients_processed': \"['buffalo', 'pork', 'oregano', 'chicken', 'pepper', 'tomato', 'chive', 'onion', 'rib', 'bacon', 'cheese', 'baby', 'dip', 'spinach', 'heart', 'potato', 'sauce', 'salt', 'sausage', 'cream', 'avocado', 'russet', 'stalk', 'salad', 'barbecue', 'pepperoni', 'cherry', 'meat', 'celery', 'leaf', 'tortilla', 'tostada', 'olife', 'cheddar', 'powder', 'mozzarella', 'artichoke', 'ground', 'pound', 'orange']\"},\n",
       "  27.70415879314689],\n",
       " [{'directions': \"['In a food processor combine 1/2 cup of the flour and the yeast, with the motor running add the water, and turn the motor off. Add the oil, the sugar, the salt, and the remaining 1 cup flour, blend the mixture until it forms a ball, and turn it out onto a lightly floured surface. Knead the dough 8 to 10 times, form it into a ball, and let it rest while making the sausage mixture.', 'In a small heavy skillet cook the sausage over moderate heat, stirring, until it is cooked through, transfer it with a slotted spoon to a bowl, and discard all but 1 tablespoons of the fat remaining in the skillet. In the fat cook the onion, the garlic, the orégano, the basil, and salt and pepper to taste over moderately low heat, stirring, until the onion is soft and transfer the onion mixture to the bowl.', 'Halve the dough, form each half into a ball, and stretch each ball into 7-inch round, making the rounds slightly thicker around the edges. Transfer the rounds to a baking sheet (preferably black steel, for a crisper crust), oiled and sprinkled lightly with the cornmeal, top the rounds evenly with the sausage mixture, the tomatoes, the artichoke hearts, the mozzarella, the Parmesan, and salt and pepper to taste, and bake the pizzas on the bottom rack of a preheated 500°F. oven for 10 to 12 minutes, or until the crusts are golden brown.']\",\n",
       "   'fat': '55.0',\n",
       "   'date': '2004-08-20T04:00:00.000Z',\n",
       "   'categories': \"['Cheese', 'Pork', 'Tomato', 'Vegetable', 'Appetizer', 'Bake', 'Mozzarella', 'Parmesan', 'Sausage', 'Artichoke', 'Winter', 'Gourmet', 'Peanut Free', 'Tree Nut Free', 'Soy Free']\",\n",
       "   'calories': '1058.0',\n",
       "   'desc': '',\n",
       "   'protein': '45.0',\n",
       "   'rating': '3.75',\n",
       "   'title': 'Individual Sausage, Tomato, and Artichoke-Heart Pizzas ',\n",
       "   'ingredients': \"['1 1/2 cups unbleached all-purpose flour', '1 1/4 teaspoon (half of a 1/4-ounce package) fast-acting yeast', '1/2 cup hot water (130°F.)', '1 tablespoon olive oil', '1 teaspoon sugar', '1/2 teaspoon salt', '1/2 pound hot Italian sausage, casing discarded and the sausage\\\\xa0chopped', '1/2 cup finely chopped onion', '1 large garlic clove, or to taste, minced', '1/2 teaspoon dried orégano, crumbled', '1/2 teaspoon dried basil, crumbled', 'yellow cornmeal for sprinkling the baking sheet', 'a 14-ounce can Italian tomatoes, drained, chopped fine, and drained\\\\xa0well again in a colander', 'a 6-ounce jar marinated artichoke hearts, drained, rinsed, and\\\\xa0patted dry', '1/2 cup coarsely grated mozzarella', '1/3 cup freshly grated Parmesan']\",\n",
       "   'sodium': '2161.0',\n",
       "   'ingredients_processed': \"['clove', 'basil', 'yeast', 'heart', 'sugar', 'dry', 'mozzarella', 'tomato', 'salt', 'sausage', 'onion', 'pound', 'oil', 'cornmeal', 'artichoke', 'water']\"},\n",
       "  16.90007716049383],\n",
       " [{'directions': \"['Preheat oven to 350°F. Divide bread between 2 baking sheets. Bake until cubes are dry but not hard, stirring occasionally, about 15 minutes.', 'Heat oil in heavy large skillet over medium-high heat. Add sausage and sauté until cooked through, breaking up with back of fork, about 5 minutes. Add onions, celery, and garlic. Sauté until celery is soft, about 10 minutes. Mix in artichokes, thyme, and mint; sauté 2 minutes longer. Transfer sausage mixture to large bowl. (Bread and sausage mixture can be made 1 day ahead. Cover separately. Store bread at room temperature. Refrigerate sausage mixture and reheat to lukewarm before continuing.)', 'Add bread to sausage mixture; toss to blend well. Mix in cheese, then 1 cup broth. Season with salt and pepper.', 'Loosely fill main cavity and neck cavity of turkey with stuffing. Add enough broth to remaining stuffing to moisten slightly (1/4 cup to 3/4 cup, depending on amount of remaining stuffing). Generously butter baking dish. Spoon remaining stuffing into prepared dish. Cover dish with buttered foil, buttered side down. Bake stuffing in dish — alongside turkey or while turkey is resting — until heated through, about 25 minutes. Uncover stuffing in dish. Bake until top of stuffing is slightly crisp and golden, about 15 minutes longer.', 'Preheat oven to 350°F. Generously butter 13x9x2-inch glass baking dish. Add enough extra broth to stuffing to moisten (3/4 cup to 1 1/4 cups). Transfer stuffing to prepared dish. Cover with buttered foil, buttered side down. Bake until heated through, about 40 minutes. Uncover and bake until top is slightly crisp and golden, about 20 minutes longer.']\",\n",
       "   'fat': '21.0',\n",
       "   'date': '2004-08-20T04:00:00.000Z',\n",
       "   'categories': \"['Cheese', 'Pork', 'Vegetable', 'Side', 'Bake', 'Thanksgiving', 'Stuffing/Dressing', 'Parmesan', 'Sausage', 'Artichoke', 'Fall', 'Bon Appétit', 'Peanut Free', 'Tree Nut Free', 'Soy Free']\",\n",
       "   'calories': '355.0',\n",
       "   'desc': 'Sourdough bread complements the Italian flavors in this stuffing from Bruce Aidells.',\n",
       "   'protein': '17.0',\n",
       "   'rating': '4.375',\n",
       "   'title': 'Artichoke, Sausage, and Parmesan Cheese Stuffing ',\n",
       "   'ingredients': \"['15 cups 1-inch cubes crustless sourdough bread (from two 1-pound loaves)', '3 tablespoons olive oil', '1 1/2 pounds Italian sweet sausages, casings removed', '2 cups chopped onions', '3/4 cup chopped celery', '2 large garlic cloves, minced', '1 8-ounce package frozen artichoke hearts, thawed, coarsely chopped', '2 teaspoons chopped fresh thyme', '1 teaspoon chopped fresh mint', '1 cup freshly grated Parmesan cheese (about 3 ounces)', '1 cup (or more) low-salt chicken broth']\",\n",
       "   'sodium': '791.0',\n",
       "   'ingredients_processed': \"['clove', 'heart', 'chicken', 'bread', 'thyme', 'celery', 'sausage', 'onion', 'artichoke', 'oil', 'pound', 'cheese']\"},\n",
       "  15.704081632653061],\n",
       " [{'directions': '[\\'Preheat oven to 350°F with rack in middle.\\', \\'Spread bread crumbs in a shallow baking pan and toast in oven, stirring once or twice, until pale golden, about 10 minutes. Cool completely, then toss with parmesan, garlic, parsley, soppressata, provolone, 1 teaspoon salt, and 1/2 teaspoon pepper in a bowl. Drizzle oil (1/4 cup) over crumbs and toss to coat.\\', \\'Cut off artichoke stems and discard. Cut off top 1/2 inch of 1 artichoke with a serrated knife, then cut about inch off all remaining leaf tips with kitchen shears. Rub cut leaves with a lemon half.\\', \\'Separate leaves slightly with your thumbs, then pull out purple leaves from center and enough yellow ones to expose fuzzy choke. Scoop out choke with a melon-ball cutter or small spoon, then squeeze some juice from other lemon half into cavity. Repeat with remaining artichokes.\\', \\'Spoon about 2 tablespoons stuffing into cavity of each artichoke and, Starting with bottom leaves and spreading leaves open as much as possible without breaking, spoon a rounded teaspoon stuffing between each leaf.\\', \\'Put 1/2 cup water, 1/2 cup broth, 1/4 cup oil, 1 1/2 teaspoons garlic, 1/2 teaspoon salt, and 1/8 teaspoon pepper in pressure cooker (without insert) or pot and arrange 4 stuffed artichokes in liquid in 1 layer. Drizzle with 1/4 cup oil.\\', \"If using pressure cooker, seal lid and cook at high pressure, according to manufacturer\\'s instructions, 13 to 15 minutes. Put pressure cooker in sink (do not remove lid) and run cold water over lid until pressure goes down completely.\", \\'If using a regular pot, simmer artichokes, covered, until leaves are tender, about 50 minutes. Transfer cooked artichokes, along with any liquid, to a shallow bowl and keep warm, loosely covered with foil.\\', \\'Repeat procedure to cook remaining stuffed artichokes. Transfer artichokes with tongs to 8 shallow soup bowls and spoon cooking liquid around them.\\']',\n",
       "   'fat': '42.0',\n",
       "   'date': '2007-10-15T04:55:57.000Z',\n",
       "   'categories': \"['Pressure Cooker', 'Cheese', 'Dairy', 'Vegetable', 'Appetizer', 'Christmas', 'Thanksgiving', 'Parmesan', 'Meat', 'Sausage', 'Artichoke', 'Fall', 'Winter', 'Gourmet', 'Sugar Conscious', 'Peanut Free', 'Tree Nut Free', 'Soy Free']\",\n",
       "   'calories': '592.0',\n",
       "   'desc': \"A bit of soppressata and cheese stuffed ingeniously between each leaf gives these artichokes a heartiness worthy of a special course. (Eat them as you normally would, scraping the leaf with your teeth—but in this case you'll get a mouthful of flavor-packed filling, too.) Using a pressure cooker speeds up cooking time and also results in incredibly tender artichokes.\",\n",
       "   'protein': '19.0',\n",
       "   'rating': '4.375',\n",
       "   'title': 'Stuffed Artichokes ',\n",
       "   'ingredients': \"['4 cups fine fresh bread crumbs from an Italian loaf (1/2 pound)', '1 1/2 cups grated Parmigiano-Reggiano (3 ounces)', '3 tablespoons finely chopped garlic (5 cloves)', '1/2 cup finely chopped flat-leaf parsley', '1/2 cup minced sweet soppressata (dried Italian sausage; 2 1/2 ounces)', '1 cup finely chopped provolone cheese (1/4 pounds)', '1/4 cup olive oil', '8 medium artichokes (8 to 9 ounces each)', '1 lemon, halved', '1 cup water, divided', '1 cup reduced-sodium chicken broth, divided', '1 cup olive oil, divided', '1 tablespoon finely chopped garlic, divided', 'Equipment: a 6- to 8-qt pressure cooker or a wide 4- to 6-qt heavy pot with a tight-fitting lid']\",\n",
       "   'sodium': '745.0',\n",
       "   'ingredients_processed': \"['clove', 'bread crumb', 'parsley', 'water', 'chicken', 'lemon', 'artichoke', 'sausage', 'oil', 'pound', 'provolone cheese']\"},\n",
       "  15.704081632653061]]"
      ]
     },
     "execution_count": 13,
     "metadata": {},
     "output_type": "execute_result"
    }
   ],
   "source": [
    "#use recipe_generator to generate suggestions\n",
    "recipe_generator = continuousTop5(user, recipe)\n",
    "# return a list of lists where each item is a recipe and score pair (format: [recipe, score], where recipe is a dictionary and score is the recommendation score)\n",
    "curr_5 = recipe_generator()\n",
    "curr_5"
   ]
  },
  {
   "cell_type": "code",
   "execution_count": 14,
   "metadata": {},
   "outputs": [
    {
     "data": {
      "text/plain": [
       "[[{'directions': \"['In the large bowl of an electric mixer proof the yeast with the sugar in 1/3 cup of the water for 5 minutes, or until the mixture is foamy, stir in the remaining 1/3 cup water, the oil, 2 cups of the flour, and the salt, and blend the mixture until it forms a dough. Fit the mixer with the dough hook and knead the dough, incorporating as much of the remaining 1/4 cup flour as necessary to prevent the dough from sticking, for 3 minutes, or until it is smooth and elastic. Transfer the dough to an oiled bowl and turn it to coat it with the oil. Let the dough rise, covered with plastic wrap, in a warm place for 1 hour, or until it is double in bulk, and punch it down.', 'Divide the dough into 6 pieces and on a floured surface roll out each piece into a 6-inch round. Transfer the rounds to baking sheets (preferably black steel, for a crisper crust), oiled and sprinkled with the cornmeal, and spread each of the rounds with a scant 1 tablespoon of the tomato sauce. Sprinkle the rounds evenly with the mozzarella and the Parmesan and top them with the pepperoni. Add salt and pepper to taste and drizzle the rounds with the oil. Bake the pizzas on the bottom rack of a preheated 500°F. electric oven or on the floor of a preheated 500°F. gas oven for 10 minutes, or until the pizza crusts are golden brown. Let the pizzas cool slightly before serving.']\",\n",
       "   'fat': '',\n",
       "   'date': '2004-08-20T04:00:00.000Z',\n",
       "   'categories': \"['Pork', 'Tomato', 'Bake', 'Kid-Friendly', 'Mozzarella', 'Parmesan', 'Gourmet']\",\n",
       "   'calories': '',\n",
       "   'desc': '',\n",
       "   'protein': '',\n",
       "   'rating': '3.75',\n",
       "   'title': 'Individual Cheese and Pepperoni Pizzas ',\n",
       "   'ingredients': \"['a 1/4-ounce package (2 1/2 teaspoons) active dry yeast', '1/2 teaspoon sugar', '2/3 cup lukewarm water', '2 tablespoons olive oil', '2 to 2 1/4 cups unbleached all-purpose flour', '1/2 tablespoon salt', 'cornmeal for sprinkling the baking sheets', '1/3 cup tomato sauce', '1/2 pound whole-milk mozzarella, grated (about 2/3 cup)', 'freshly grated Parmesan for sprinkling the pizzas if desired', '36 thin slices of pepperoni', '2 teaspoons olive oil']\",\n",
       "   'sodium': '',\n",
       "   'ingredients_processed': \"['pound', 'yeast', 'sugar', 'pepperoni', 'pizza', 'mozzarella', 'tomato', 'sauce', 'salt', 'cornmeal', 'oil', 'water']\"},\n",
       "  13.400077160493828],\n",
       " [{'directions': \"['Pour 1 1/2 cups warm water into large bowl. Stir in yeast. Let stand until yeast dissolves, about 5 minutes. Mix in oil and salt. Add 3 3/4 cups flour, about 1/2 cup at a time, stirring until blended. Turn dough out onto floured surface. Knead until smooth and elastic, sprinkling with more flour if sticky, about 10 minutes.', 'Place dough in oiled large bowl; turn to coat. Cover bowl with plastic wrap. Let dough rise in warm draft-free area until doubled, about 1 hour 15 minutes.', 'Meanwhile, char bell pepper over gas flame or in broiler until blackened on all sides. Enclose in paper bag and let stand 10 minutes. Peel, seed and slice pepper. Heat olive oil in heavy large skillet over medium-high heat. Add red onions; sauté until brown, about 25 minutes. Set aside. Sauté sausage in heavy medium skillet over medium heat until cooked through, breaking into 1/2-inch pieces with spoon, about 15 minutes. Set aside. Mix both cheeses and oregano in bowl, season with salt and pepper.', 'Position 1 rack in top third and 1 rack in bottom third of oven and preheat to 400°F. Dust 2 baking sheets with flour.', 'Punch dough down. Knead on lightly floured surface until smooth, about 1 minute. Divide into 4 equal portions; shape each into ball. Roll out dough balls on lightly floured surface to 9-inch rounds. Spread 1/3 cup cheese mixture over half of each round, leaving 3/4-inch border. Cover cheese on each with 1/4 of onions, 1/3 cup cheese mixture, 1/4 of sausage, 1/3 cup cheese mixture, then 1/4 of bell peppers. Fold plain dough halves over filling, forming half circles. Pinch edges of dough firmly together to seal.', 'Using spatula, transfer 2 calzones to each prepared sheet. Pierce tops in several places with small knife. Bake calzones 15 minutes. Reverse baking sheets and bake until tops of calzones are golden brown, about 15 minutes longer.']\",\n",
       "   'fat': '92.0',\n",
       "   'date': '2004-08-20T12:48:48.000Z',\n",
       "   'categories': \"['Cheese', 'Dairy', 'Pepper', 'Pork', 'Bake', 'Spring', 'Bon Appétit']\",\n",
       "   'calories': '1662.0',\n",
       "   'desc': '',\n",
       "   'protein': '86.0',\n",
       "   'rating': '3.75',\n",
       "   'title': 'Calzones with Cheese, Sausage and Roasted Red Pepper ',\n",
       "   'ingredients': \"['1 1/2 cups warm water (105°F to 115°F.)', '1 envelope dry yeast', '2 tablespoons olive oil', '1 1/2 teaspoons salt', '4 cups (about) all purpose flour', '1 large red bell pepper', '2 tablespoons olive oil', '1 1/4 pounds red onions, sliced', '4 sweet or spicy Italian sausages, casings removed', '3 cups (packed) coarsely grated mozzarella cheese (about 12 ounces)', '12 ounces ricotta cheese', '4 teaspoons dried oregano']\",\n",
       "   'sodium': '2764.0',\n",
       "   'ingredients_processed': \"['yeast', 'mozzarella cheese', 'water', 'oregano', 'sweet', 'salt', 'sausage', 'onion', 'oil', 'pound']\"},\n",
       "  14.60415879314689],\n",
       " [{'directions': '[\\'Preheat oven to 350°F.\\', \\'Spread bread crumbs in a shallow baking pan and bake in middle of oven until pale golden, about 10 minutes. Cool crumbs completely, then toss with parmesan, garlic, parsley, soppressata, zest if using, salt, and pepper. Drizzle oil over crumbs and toss to coat evenly.\\', \\'Cut off artichoke stems and discard. Cut off top 1/2 inch of 1 artichoke with a serrated knife, then cut about 1/2 inch off all remaining leaf tips with kitchen shears. Rub cut leaves with a lemon half.\\', \\'Separate leaves slightly with your thumbs and pull out purple leaves from center and enough yellow leaves to expose fuzzy choke. Scoop out choke with melon-ball cutter, then squeeze some lemon juice into cavity.\\', \\'Trim remaining artichokes in same manner.\\', \\'Spoon about 2 tablespoons stuffing into cavity of each artichoke and, starting with bottom leaves and spreading leaves open as much as possible without breaking, spoon a rounded 1/2 teaspoon stuffing inside each leaf. Top each artichoke with a slice of provolone.\\', \\'Put water, wine, oil, onion, garlic, salt, and pepper in pressure cooker (without insert) or pot and arrange stuffed artichokes in liquid in 1 layer.\\', \"Seal pressure cooker with lid and cook at high pressure, according to manufacturer\\'s instructions, 10 minutes. Put pressure cooker in sink (do not remove lid) and run cold water over lid until pressure goes down completely.\", \\'If using a regular pot, simmer artichokes, covered, until leaves are tender, about 50 minutes.\\', \\'Transfer artichokes with tongs to 4 soup plates and spoon cooking liquid around them.\\']',\n",
       "   'fat': '39.0',\n",
       "   'date': '2004-08-20T04:00:00.000Z',\n",
       "   'categories': \"['Cheese', 'Appetizer', 'Bake', 'Braise', 'Parmesan', 'Sausage', 'Artichoke', 'White Wine', 'Parsley', 'Gourmet', 'Vegetarian', 'Pescatarian', 'Peanut Free', 'Tree Nut Free', 'Soy Free', 'Kosher']\",\n",
       "   'calories': '602.0',\n",
       "   'desc': \"In these stuffed artichokes, based on a recipe by Marie Miraglia — mother of one of our food editors, Gina — the provolone melts into each bite, and the soppressata adds more depth of flavor. Though we've given a regular-pot method in our recipe, there's nothing like the tenderness the leaves acquire in a pressure cooker — and the artichokes are done in a fraction of the time.\",\n",
       "   'protein': '22.0',\n",
       "   'rating': '4.375',\n",
       "   'title': 'Whole Stuffed Artichokes Braised in White Wine ',\n",
       "   'ingredients': \"['2 cups fine fresh bread crumbs from an Italian loaf (4 oz)', '1/2 cup finely grated Parmigiano-Reggiano (1 1/2 oz)', '1 1/2 tablespoons finely chopped garlic', '1/4 cup finely chopped fresh flat-leaf parsley', '1/4 cup minced sweet soppressata (dried Italian sausage; 1 1/4 oz)', '1 teaspoon finely grated fresh lemon zest (optional)', '1 teaspoon salt', '1/4 teaspoon black pepper', '1/4 cup olive oil', '4 medium artichokes (8 to 9 oz each)', '1 lemon, halved', '4 thin slices provolone cheese', '1 1/2 cups water', '1/2 cup dry white wine', '1/4 cup olive oil', '1/2 cup finely chopped onion', '1 1/2 teaspoons finely chopped garlic', '1/2 teaspoon salt', '1/4 teaspoon black pepper', 'Special equipment: a melon-ball cutter; a 6- to 8-quart pressure cooker or a wide 4- to 6-quart heavy pot with a tight-fitting lid']\",\n",
       "   'sodium': '1673.0',\n",
       "   'ingredients_processed': \"['bread crumb', 'parsley', 'onion', 'wine', 'lemon', 'pepper', 'salt', 'sausage', 'artichoke', 'oil', 'water']\"},\n",
       "  14.5],\n",
       " [{'directions': \"['Mix flour, yeast and salt in a bowl. Gradually add 1/2 cup warm (110°F) water until a soft dough forms. Divide dough into 4 portions. Using hands, roll dough into balls. Coat with cooking spray, cover with plastic wrap and set aside to rise, 30 to 45 minutes. When ready to cook, place each ball of dough on a piece of wax paper and flatten into a 4-inch circle. Coat grill with cooking spray and heat on high. Gently place dough onto grill and cook until dough puffs and underside stiffens (about 30 seconds); flip and reduce heat to low. Mix topping ingredients, then divide among crusts. Cover grill. Cook until cheese melts, 5 to 6 minutes more. Slice and serve.']\",\n",
       "   'fat': '',\n",
       "   'date': '2007-08-07T20:37:46.000Z',\n",
       "   'categories': \"['Dairy', 'Tomato', 'turkey', 'Vegetable', 'Super Bowl', 'Mozzarella', 'Basil', 'Poultry Sausage', 'Grill/Barbecue', 'Healthy', 'Self']\",\n",
       "   'calories': '',\n",
       "   'desc': \"Love the crust? Eat up! It's a solid source of heart-smart folate.\",\n",
       "   'protein': '',\n",
       "   'rating': '4.375',\n",
       "   'title': 'Pizza with Sausage, Tomatoes and Basil ',\n",
       "   'ingredients': \"['1 1/4 cups all-purpose enriched flour', '1 1/2 teaspoons active dry yeast', '1 teaspoon salt', 'Vegetable oil cooking spray', '1 pound red and yellow cherry tomatoes, halved', '1/2 pound turkey sausage, cooked and thinly sliced', '1 cup grated part-skim mozzarella', '1 tablespoon chopped fresh basil', '1 tablespoon balsamic vinegar', '1 tablespoon olive oil', '1/2 teaspoon salt', '1/2 teaspoon red pepper flakes']\",\n",
       "   'sodium': '',\n",
       "   'ingredients_processed': \"['yeast', 'turkey', 'cherry', 'mozzarella', 'pepper', 'tomato', 'salt', 'sausage', 'vinegar', 'basil', 'oil', 'pound']\"},\n",
       "  13.400077160493828],\n",
       " [{'directions': \"['1 In a large skillet with a lid, brown the sau-sage in the oil until crispy, about 5 minutes.', '2 Add the rice, artichoke hearts, peppers, broth or wine, and 2 cups of water. Bring to a boil.', '3 Reduce heat, cover, and simmer until most of the liquid is absorbed, about 20 minutes.', '4 Stir in the shrimp and peas. Cover and continue cooking until the shrimp are opaque, 5 to 7 minutes.']\",\n",
       "   'fat': '37.0',\n",
       "   'date': '2009-07-08T04:00:00.000Z',\n",
       "   'categories': \"['Rice', 'Kid-Friendly', 'Quick & Easy', 'Dinner', 'Sausage', 'Shrimp', 'Saffron', 'Artichoke', 'Family Reunion', 'Simmer', 'Boil', 'Cookie', 'Dairy Free', 'Wheat/Gluten-Free', 'Peanut Free', 'Tree Nut Free', 'Soy Free', 'No Sugar Added']\",\n",
       "   'calories': '943.0',\n",
       "   'desc': 'The ideal summer dinner—without the labor required for the traditional Spanish version.',\n",
       "   'protein': '43.0',\n",
       "   'rating': '3.75',\n",
       "   'title': 'Quick Paella ',\n",
       "   'ingredients': \"['3/4 pound cooked chorizo or linguiça sausage, cut into chunks', '4 tablespoons olive oil', '1 1-pound bag saffron rice (such as Vigo)', '1 9-ounce package frozen artichoke hearts, thawed and drained', '1 8-ounce jar roasted red peppers, drained and sliced', '2 cups chicken or fish broth, or wine', '1 pound large shrimp, peeled', '1 cup frozen peas, defrosted']\",\n",
       "   'sodium': '1758.0',\n",
       "   'ingredients_processed': \"['rice', 'heart', 'wine', 'pea', 'shrimp', 'chorizo', 'pepper', 'artichoke', 'sausage', 'oil', 'pound']\"},\n",
       "  14.5]]"
      ]
     },
     "execution_count": 14,
     "metadata": {},
     "output_type": "execute_result"
    }
   ],
   "source": [
    "#call recipe_generator() again to generate the next 5 ranked recipe suggestion\n",
    "next_5 = recipe_generator()\n",
    "next_5"
   ]
  },
  {
   "cell_type": "code",
   "execution_count": 15,
   "metadata": {},
   "outputs": [],
   "source": [
    "def find_category(s):\n",
    "    result = []\n",
    "    s = s[1:s.find(']')]\n",
    "    s = s.replace('\"', \"'\")\n",
    "    front = 0\n",
    "    while front < len(s):\n",
    "        s = s[front+1:]\n",
    "        end = s.find(\"'\")\n",
    "        result.append(s[0:end])\n",
    "        front = end + 3\n",
    "    return result"
   ]
  },
  {
   "cell_type": "code",
   "execution_count": 16,
   "metadata": {},
   "outputs": [],
   "source": [
    "def add_category(user, recipe):\n",
    "    categories = recipe['categories']\n",
    "    for category in find_category(categories):\n",
    "        found = False\n",
    "        for user_item in user:\n",
    "            if category in user_item.keys():\n",
    "                user_item[category] += 1\n",
    "                found = True\n",
    "        if not found:\n",
    "            user.append({category: 1})"
   ]
  },
  {
   "cell_type": "code",
   "execution_count": 17,
   "metadata": {},
   "outputs": [],
   "source": [
    "#sample usage for adding user profile\n",
    "add_category(user, recipe[0]) #assume the user marked the recipe[0] as cooked"
   ]
  },
  {
   "cell_type": "code",
   "execution_count": 18,
   "metadata": {},
   "outputs": [
    {
     "data": {
      "text/plain": [
       "[{'name': 'olive', 'expireIn': 60, 'parsed_name': ['olive']},\n",
       " {'name': 'cheese', 'expireIn': 7, 'parsed_name': ['cheese']},\n",
       " {'name': 'mozzarella', 'expireIn': 360, 'parsed_name': ['mozzarella']},\n",
       " {'name': 'flour', 'expireIn': 30, 'parsed_name': []},\n",
       " {'name': 'pepperoni', 'expireIn': -1, 'parsed_name': ['pepperoni']},\n",
       " {'name': 'sausage', 'expireIn': 1, 'parsed_name': ['sausage']},\n",
       " {'name': 'yeast', 'expireIn': 5, 'parsed_name': ['yeast']},\n",
       " {'name': 'ham', 'expireIn': 3, 'parsed_name': ['ham']},\n",
       " {'name': 'dough', 'expireIn': -1, 'parsed_name': []},\n",
       " {'name': 'pineapple', 'expireIn': 720, 'parsed_name': ['pineapple']},\n",
       " {'name': 'artichoke', 'expireIn': 2, 'parsed_name': ['artichoke']},\n",
       " {'Sandwich': 1},\n",
       " {'Bean': 1},\n",
       " {'Fruit': 1},\n",
       " {'Tomato': 1},\n",
       " {'turkey': 1},\n",
       " {'Vegetable': 1},\n",
       " {'Kid-Friendly': 1},\n",
       " {'Apple': 1},\n",
       " {'Lentil': 1},\n",
       " {'Lettuce': 1},\n",
       " {'Cookie': 1}]"
      ]
     },
     "execution_count": 18,
     "metadata": {},
     "output_type": "execute_result"
    }
   ],
   "source": [
    "#the type of the first recipe includes Sandwich, Bean, ..., Cookie  We add a weight of one to each category\n",
    "user"
   ]
  },
  {
   "cell_type": "code",
   "execution_count": 19,
   "metadata": {},
   "outputs": [
    {
     "data": {
      "text/plain": [
       "[{'name': 'olive', 'expireIn': 60, 'parsed_name': ['olive']},\n",
       " {'name': 'cheese', 'expireIn': 7, 'parsed_name': ['cheese']},\n",
       " {'name': 'mozzarella', 'expireIn': 360, 'parsed_name': ['mozzarella']},\n",
       " {'name': 'flour', 'expireIn': 30, 'parsed_name': []},\n",
       " {'name': 'pepperoni', 'expireIn': -1, 'parsed_name': ['pepperoni']},\n",
       " {'name': 'sausage', 'expireIn': 1, 'parsed_name': ['sausage']},\n",
       " {'name': 'yeast', 'expireIn': 5, 'parsed_name': ['yeast']},\n",
       " {'name': 'ham', 'expireIn': 3, 'parsed_name': ['ham']},\n",
       " {'name': 'dough', 'expireIn': -1, 'parsed_name': []},\n",
       " {'name': 'pineapple', 'expireIn': 720, 'parsed_name': ['pineapple']},\n",
       " {'name': 'artichoke', 'expireIn': 2, 'parsed_name': ['artichoke']},\n",
       " {'Sandwich': 2},\n",
       " {'Bean': 2},\n",
       " {'Fruit': 2},\n",
       " {'Tomato': 2},\n",
       " {'turkey': 2},\n",
       " {'Vegetable': 2},\n",
       " {'Kid-Friendly': 2},\n",
       " {'Apple': 2},\n",
       " {'Lentil': 2},\n",
       " {'Lettuce': 2},\n",
       " {'Cookie': 2}]"
      ]
     },
     "execution_count": 19,
     "metadata": {},
     "output_type": "execute_result"
    }
   ],
   "source": [
    "#if the user cooks recipe[0] again, the weight of each category will increase by 1\n",
    "add_category(user, recipe[0])\n",
    "user"
   ]
  }
 ],
 "metadata": {
  "kernelspec": {
   "display_name": "Python 3",
   "language": "python",
   "name": "python3"
  },
  "language_info": {
   "codemirror_mode": {
    "name": "ipython",
    "version": 3
   },
   "file_extension": ".py",
   "mimetype": "text/x-python",
   "name": "python",
   "nbconvert_exporter": "python",
   "pygments_lexer": "ipython3",
   "version": "3.6.8"
  }
 },
 "nbformat": 4,
 "nbformat_minor": 2
}
