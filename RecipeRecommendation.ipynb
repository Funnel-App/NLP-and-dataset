{
 "cells": [
  {
   "cell_type": "code",
   "execution_count": 1,
   "metadata": {},
   "outputs": [],
   "source": [
    "# import expiration data\n",
    "import csv\n",
    "reader = csv.DictReader(open(\"/Users/jefferychen/Desktop/RecipeRecommendation/expiration_data.csv\"))\n",
    "expiration = []\n",
    "for line in reader:\n",
    "    expiration.append(line)\n",
    "for i in range(len(expiration)):\n",
    "    expiration[i] = dict(expiration[i])\n",
    "    \n",
    "# import recipe\n",
    "import csv\n",
    "reader = csv.DictReader(open(\"/Users/jefferychen/Desktop/RecipeRecommendation/recipe.csv\"))\n",
    "recipe = []\n",
    "for line in reader:\n",
    "    recipe.append(line)\n",
    "for i in range(len(recipe)):\n",
    "    recipe[i] = dict(recipe[i])\n",
    "\n",
    "# import foodlist\n",
    "foodList = open(\"/Users/jefferychen/Desktop/RecipeRecommendation/foodList.txt\")\n",
    "foodList = foodList.readlines()\n",
    "for i in range(len(foodList)):\n",
    "    foodList[i] = foodList[i][:-1]"
   ]
  },
  {
   "cell_type": "code",
   "execution_count": 2,
   "metadata": {},
   "outputs": [
    {
     "data": {
      "text/plain": [
       "20111"
      ]
     },
     "execution_count": 2,
     "metadata": {},
     "output_type": "execute_result"
    }
   ],
   "source": [
    "len(recipe)"
   ]
  },
  {
   "cell_type": "code",
   "execution_count": 3,
   "metadata": {},
   "outputs": [],
   "source": [
    "#from pattern.text.en import singularize\n",
    "# user: list of dictionaries\n",
    "# epiration: list of dictionaries\n",
    "# destructively append \"expiration date\" to each dictionary in \"user\" \n",
    "def addExpirationDates(user, expiration):\n",
    "    for userItem in user[1:]:\n",
    "        curr = userItem['name']\n",
    "        curr_split = curr.split(' ')\n",
    "        curr_max = [0, float('inf')]\n",
    "        exactMatched = False\n",
    "        for expItem in expiration:\n",
    "            \n",
    "            # exact match\n",
    "            if curr == expItem['name']:\n",
    "                userItem['expireIn'] = int(expItem['expireIn'])\n",
    "                exactMatched = True\n",
    "                break\n",
    "                \n",
    "            # split into set and find the maximum number of names that also exist in expiration data\n",
    "            expItem_split = expItem['name'].split(' ')\n",
    "            # calculate curr overlap score\n",
    "            overlapped = 0\n",
    "            for i in curr_split:\n",
    "                if i in expItem_split:\n",
    "                    overlapped += 1\n",
    "            if overlapped > curr_max[0]:\n",
    "                curr_max = [overlapped, int(expItem['expireIn'])]\n",
    "            elif overlapped == curr_max[0]:\n",
    "                curr_max[1] = min(curr_max[1], int(expItem['expireIn']))\n",
    "        if curr_max[0] > 0:\n",
    "            userItem['expireIn'] = curr_max[1]\n",
    "        # if no matching found, set -1 as indicator value\n",
    "        elif not exactMatched:\n",
    "            userItem['expireIn'] = -1"
   ]
  },
  {
   "cell_type": "code",
   "execution_count": 4,
   "metadata": {},
   "outputs": [],
   "source": [
    "def generate_parsed(item, foodList):\n",
    "    results = []\n",
    "    if item in foodList:\n",
    "        results += [item]\n",
    "    else:\n",
    "        for w in item.split(' '):\n",
    "            if w in foodList:\n",
    "                results += [w]\n",
    "    return list(set(results))"
   ]
  },
  {
   "cell_type": "code",
   "execution_count": 5,
   "metadata": {},
   "outputs": [],
   "source": [
    "def addParsedUserData(user, foodList):\n",
    "    for item in user[1:]:\n",
    "        item['parsed_name'] = generate_parsed(item['name'], foodList)"
   ]
  },
  {
   "cell_type": "code",
   "execution_count": 6,
   "metadata": {},
   "outputs": [],
   "source": [
    "def calculateOverlapScore(user, recipe_item):\n",
    "    score = 0\n",
    "    for userItem in user[1:]:\n",
    "        for i in userItem['parsed_name']:\n",
    "            if i in recipe_item['ingredients_processed']:\n",
    "                score += 1\n",
    "    return score"
   ]
  },
  {
   "cell_type": "code",
   "execution_count": 7,
   "metadata": {},
   "outputs": [],
   "source": [
    "def calculateExpireScore(user, recipe_item):\n",
    "    score = 0\n",
    "    for userItem in user[1:]:\n",
    "        for i in userItem['parsed_name']:\n",
    "            if i in recipe_item['ingredients_processed']:\n",
    "                score += (1 / userItem['expireIn']) ** 2\n",
    "    return score"
   ]
  },
  {
   "cell_type": "code",
   "execution_count": 8,
   "metadata": {},
   "outputs": [],
   "source": [
    "# due to replicate recipe in recipe data, remove replicate item in top_5\n",
    "def checkRepeated(recipe_item, curr_list):\n",
    "    for i in curr_list:\n",
    "        if recipe_item['title'] == i[0]['title']:\n",
    "            return True\n",
    "    return False"
   ]
  },
  {
   "cell_type": "code",
   "execution_count": 9,
   "metadata": {},
   "outputs": [],
   "source": [
    "def top_5(user, recipe):\n",
    "    top_5 = []\n",
    "    min_score = float('inf')\n",
    "    min_index = 0\n",
    "    for recipe_item in recipe:\n",
    "        if checkRepeated(recipe_item, top_5):\n",
    "            continue\n",
    "        curr_score = calculateOverlapScore(user, recipe_item) + 10 * calculateExpireScore(user, recipe_item)\n",
    "        if len(top_5) < 5:\n",
    "            top_5 += [[recipe_item, curr_score]]\n",
    "            if curr_score < min_score:\n",
    "                min_score = curr_score\n",
    "                min_index = len(top_5) - 1\n",
    "        else:\n",
    "            if curr_score > min_score:\n",
    "                top_5[min_index] = [recipe_item, curr_score]\n",
    "                new_min = float('inf')\n",
    "                for i in range(5):\n",
    "                    if top_5[i][1] < new_min:\n",
    "                        new_min = top_5[i][1]\n",
    "                        min_index = i\n",
    "                min_score = new_min\n",
    "    return top_5"
   ]
  },
  {
   "cell_type": "code",
   "execution_count": 10,
   "metadata": {},
   "outputs": [],
   "source": [
    "# create user data dictionary given a list of scanned food names and return user data\n",
    "def createUserDict(names):\n",
    "    user = []\n",
    "    user.append({'profile': 'N/A'}) #when dealing with foods, need to use uer[1:] since the first dictionary is profile\n",
    "    for name in names:\n",
    "        user += [{'name': name}]\n",
    "    addExpirationDates(user, expiration)\n",
    "    addParsedUserData(user, foodList)\n",
    "    return user"
   ]
  },
  {
   "cell_type": "code",
   "execution_count": 11,
   "metadata": {},
   "outputs": [],
   "source": [
    "import copy\n",
    "def continuousTop5(user, recipe):\n",
    "    #nonlocal recipe_copy\n",
    "    recipe_copy = copy.deepcopy(recipe)\n",
    "    def g():\n",
    "        curr = top_5(user, recipe_copy)\n",
    "        for i in curr:\n",
    "            recipe_copy.remove(i[0])\n",
    "        return curr\n",
    "    return g"
   ]
  },
  {
   "cell_type": "code",
   "execution_count": 12,
   "metadata": {},
   "outputs": [],
   "source": [
    "# example usage: input a list of scanned food names (l), create the processed user data by calling createUserDict, and call top_5 to retrieve the top 5 recipe recommendations\n",
    "l = ['olive', 'cheese', 'mozzarella', 'flour', 'pepperoni', 'sausage', 'yeast', 'ham', 'dough', 'pineapple', 'artichoke']\n",
    "user = createUserDict(l)\n",
    "recipe_generator = continuousTop5(user, recipe)\n",
    "# return a list of lists where each item is a recipe and score pair (format: [recipe, score], where recipe is a dictionary and score is the recommendation score)\n",
    "curr_5 = recipe_generator()"
   ]
  },
  {
   "cell_type": "code",
   "execution_count": 13,
   "metadata": {},
   "outputs": [
    {
     "data": {
      "text/plain": [
       "[{'profile': 'N/A'},\n",
       " {'name': 'olive', 'expireIn': 60, 'parsed_name': ['olive']},\n",
       " {'name': 'cheese', 'expireIn': 7, 'parsed_name': ['cheese']},\n",
       " {'name': 'mozzarella', 'expireIn': 360, 'parsed_name': ['mozzarella']},\n",
       " {'name': 'flour', 'expireIn': 30, 'parsed_name': []},\n",
       " {'name': 'pepperoni', 'expireIn': -1, 'parsed_name': ['pepperoni']},\n",
       " {'name': 'sausage', 'expireIn': 1, 'parsed_name': ['sausage']},\n",
       " {'name': 'yeast', 'expireIn': 5, 'parsed_name': ['yeast']},\n",
       " {'name': 'ham', 'expireIn': 3, 'parsed_name': ['ham']},\n",
       " {'name': 'dough', 'expireIn': -1, 'parsed_name': []},\n",
       " {'name': 'pineapple', 'expireIn': 720, 'parsed_name': ['pineapple']},\n",
       " {'name': 'artichoke', 'expireIn': 2, 'parsed_name': ['artichoke']}]"
      ]
     },
     "execution_count": 13,
     "metadata": {},
     "output_type": "execute_result"
    }
   ],
   "source": [
    "user"
   ]
  },
  {
   "cell_type": "code",
   "execution_count": 14,
   "metadata": {},
   "outputs": [],
   "source": [
    "def find_category(s):\n",
    "    result = []\n",
    "    s = s[1:s.find(']')]\n",
    "    s = s.replace('\"', \"'\")\n",
    "    front = 0\n",
    "    while front < len(s):\n",
    "        s = s[front+1:]\n",
    "        end = s.find(\"'\")\n",
    "        result.append(s[0:end])\n",
    "        front = end + 3\n",
    "    return result"
   ]
  },
  {
   "cell_type": "code",
   "execution_count": 15,
   "metadata": {},
   "outputs": [],
   "source": [
    "def add_category(user, recipe):\n",
    "    category = recipe['categories']\n",
    "    user[0]['profile'] = find_category(category)"
   ]
  },
  {
   "cell_type": "code",
   "execution_count": 16,
   "metadata": {},
   "outputs": [],
   "source": [
    "add_category(user, recipe[0])"
   ]
  },
  {
   "cell_type": "code",
   "execution_count": 17,
   "metadata": {},
   "outputs": [
    {
     "data": {
      "text/plain": [
       "[{'profile': ['Sandwich',\n",
       "   'Bean',\n",
       "   'Fruit',\n",
       "   'Tomato',\n",
       "   'turkey',\n",
       "   'Vegetable',\n",
       "   'Kid-Friendly',\n",
       "   'Apple',\n",
       "   'Lentil',\n",
       "   'Lettuce',\n",
       "   'Cookie']},\n",
       " {'name': 'olive', 'expireIn': 60, 'parsed_name': ['olive']},\n",
       " {'name': 'cheese', 'expireIn': 7, 'parsed_name': ['cheese']},\n",
       " {'name': 'mozzarella', 'expireIn': 360, 'parsed_name': ['mozzarella']},\n",
       " {'name': 'flour', 'expireIn': 30, 'parsed_name': []},\n",
       " {'name': 'pepperoni', 'expireIn': -1, 'parsed_name': ['pepperoni']},\n",
       " {'name': 'sausage', 'expireIn': 1, 'parsed_name': ['sausage']},\n",
       " {'name': 'yeast', 'expireIn': 5, 'parsed_name': ['yeast']},\n",
       " {'name': 'ham', 'expireIn': 3, 'parsed_name': ['ham']},\n",
       " {'name': 'dough', 'expireIn': -1, 'parsed_name': []},\n",
       " {'name': 'pineapple', 'expireIn': 720, 'parsed_name': ['pineapple']},\n",
       " {'name': 'artichoke', 'expireIn': 2, 'parsed_name': ['artichoke']}]"
      ]
     },
     "execution_count": 17,
     "metadata": {},
     "output_type": "execute_result"
    }
   ],
   "source": [
    "user"
   ]
  },
  {
   "cell_type": "code",
   "execution_count": null,
   "metadata": {},
   "outputs": [],
   "source": []
  }
 ],
 "metadata": {
  "kernelspec": {
   "display_name": "Python 3",
   "language": "python",
   "name": "python3"
  },
  "language_info": {
   "codemirror_mode": {
    "name": "ipython",
    "version": 3
   },
   "file_extension": ".py",
   "mimetype": "text/x-python",
   "name": "python",
   "nbconvert_exporter": "python",
   "pygments_lexer": "ipython3",
   "version": "3.6.8"
  }
 },
 "nbformat": 4,
 "nbformat_minor": 2
}
